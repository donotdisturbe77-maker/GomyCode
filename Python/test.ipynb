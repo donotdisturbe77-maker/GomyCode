{
 "cells": [
  {
   "cell_type": "markdown",
   "id": "f9da03f3",
   "metadata": {},
   "source": [
    "### session 1"
   ]
  },
  {
   "cell_type": "markdown",
   "id": "701cd4b9",
   "metadata": {},
   "source": []
  },
  {
   "cell_type": "code",
   "execution_count": null,
   "id": "a36020da",
   "metadata": {},
   "outputs": [],
   "source": [
    "import random\n",
    "dice1 = random.randint (0,6)\n",
    "dice2 = random.randint (0,6)\n",
    "z= dice1+dice2\n",
    "dice_winner= dice1 + dice2 \n",
    "\n",
    "if z in [2,4,6,8,10,12]:\n",
    "    print(f\"You got {z} it's even\")\n",
    "    if dice_winner == 12:\n",
    "        print(\"We got a Winner !!\")\n",
    "else:\n",
    "    print (f\"You got {z} it's odd\")\n",
    "\n",
    "\n",
    "\n",
    "\n"
   ]
  },
  {
   "cell_type": "code",
   "execution_count": null,
   "id": "efea28ff",
   "metadata": {},
   "outputs": [],
   "source": []
  },
  {
   "cell_type": "markdown",
   "id": "65558534",
   "metadata": {},
   "source": [
    "### Activity 2"
   ]
  },
  {
   "cell_type": "code",
   "execution_count": null,
   "id": "b2c612f8",
   "metadata": {},
   "outputs": [],
   "source": [
    "import random\n",
    "result = []\n",
    "\n",
    "for i in range (100):\n",
    "    dice1 = random.randint (1,6)\n",
    "    dice2 = random.randint (1,6)\n",
    "    dice_winner= dice1 + dice2\n",
    "    result.append(dice_winner)\n",
    "\n",
    "# print(result)\n",
    "\n",
    "\n",
    "from collections import Counter\n",
    "\n",
    "compteur = Counter(result)\n",
    "print(compteur)"
   ]
  },
  {
   "cell_type": "markdown",
   "id": "f37e291e",
   "metadata": {},
   "source": []
  },
  {
   "cell_type": "code",
   "execution_count": null,
   "id": "5cd83dc0",
   "metadata": {},
   "outputs": [],
   "source": [
    "possible_result=[x for x in range (2,13)]\n",
    "possible_result"
   ]
  },
  {
   "cell_type": "code",
   "execution_count": null,
   "id": "fab838fe",
   "metadata": {},
   "outputs": [],
   "source": [
    "possible_result = []\n",
    "for i in range(2,13):\n",
    "    possible_result.append(i)\n",
    "possible_result"
   ]
  },
  {
   "cell_type": "code",
   "execution_count": null,
   "id": "e66226d8",
   "metadata": {},
   "outputs": [],
   "source": [
    "hello = { \"fruit\": \"coconut\", \"name\":\"hello\", \"life\":True}\n",
    "print(hello.values())\n"
   ]
  },
  {
   "cell_type": "code",
   "execution_count": null,
   "id": "78bbb4cb",
   "metadata": {},
   "outputs": [],
   "source": [
    "\n",
    "dict_frequence={}\n",
    "for i in possible_result:\n",
    "    if i in compteur.keys():\n",
    "        dict_frequence[i]= compteur[i]/100\n",
    "    else:\n",
    "     dict_frequence[i]= 0\n",
    "\n",
    "dict_frequence\n"
   ]
  },
  {
   "cell_type": "code",
   "execution_count": null,
   "id": "58cefc5b",
   "metadata": {},
   "outputs": [],
   "source": [
    "a = 122\n",
    "b = \"arthur\"\n",
    "print (type(a))"
   ]
  },
  {
   "cell_type": "code",
   "execution_count": null,
   "id": "9a004b2a",
   "metadata": {},
   "outputs": [],
   "source": [
    "fruits = [\"orange\",\"banane\",\"pomme\" ]\n",
    "i = \"raisin\"\n",
    "fruits.append(i)\n",
    "print(fruits)"
   ]
  },
  {
   "cell_type": "markdown",
   "id": "79839859",
   "metadata": {},
   "source": [
    "### IMPORTANT"
   ]
  },
  {
   "cell_type": "markdown",
   "id": "11c99026",
   "metadata": {},
   "source": [
    "to memorize :\n",
    "1- Use {} with f instead of \",x,\" , for example :\n",
    "print (f\"I have {x} apples)\n",
    "\n",
    "2- use data structures operations, like:\n",
    ".keys() or .values() for dictionnary\n"
   ]
  },
  {
   "cell_type": "code",
   "execution_count": null,
   "id": "8cc12695",
   "metadata": {},
   "outputs": [],
   "source": [
    "x = []\n",
    "for y in range(1500,2701):\n",
    "    if y % 7 == 0 and y % 5 == 0:\n",
    "        x.append(y)\n",
    "print(x)"
   ]
  },
  {
   "cell_type": "code",
   "execution_count": null,
   "id": "b5a12c32",
   "metadata": {},
   "outputs": [],
   "source": [
    "import random\n",
    "number = random.randint(1,101)\n",
    "your_guess = int(input(\"Enter your guess :\"))\n",
    "if your_guess > number:\n",
    "  print(\"your guess is too high\")\n",
    "if your_guess < number:\n",
    "  print(\"your guess is too low\")\n",
    "if your_guess == number:\n",
    "  print(\"Congratulations! You guessed the number correctly!\")\n",
    "while your_guess != number:\n",
    "  your_guess = (input(\"Enter your guess :\"))\n",
    "  print (your_guess)\n",
    "  if your_guess == number:\n",
    "    break\n"
   ]
  },
  {
   "cell_type": "code",
   "execution_count": null,
   "id": "1f5acee8",
   "metadata": {},
   "outputs": [],
   "source": []
  },
  {
   "cell_type": "code",
   "execution_count": null,
   "id": "99276fae",
   "metadata": {},
   "outputs": [],
   "source": [
    "import random\n",
    "number = random.randint(1,101)\n",
    "your_guess = (input(\"Enter your guess :\"))\n",
    "\n",
    "while your_guess != number:\n",
    "  your_guess = (input(\"Enter your guess :\"))\n",
    "  print (your_guess)"
   ]
  },
  {
   "cell_type": "code",
   "execution_count": null,
   "id": "ca3861d9",
   "metadata": {},
   "outputs": [],
   "source": []
  },
  {
   "cell_type": "code",
   "execution_count": null,
   "id": "fc854900",
   "metadata": {},
   "outputs": [],
   "source": [
    "mixed_set = {{'Hello'}, 101, -2, {'Bye'}}\n",
    "print (mixed_set)"
   ]
  },
  {
   "cell_type": "code",
   "execution_count": null,
   "id": "3856655f",
   "metadata": {},
   "outputs": [],
   "source": [
    "colors = (\"red\", \"green\", \"blue\")\n",
    "colors [1]"
   ]
  },
  {
   "cell_type": "code",
   "execution_count": null,
   "id": "96bdb88c",
   "metadata": {},
   "outputs": [],
   "source": [
    "Sample_list= [2, 3, 6]\n",
    "x = 1\n",
    "\n",
    "for i in range(len(Sample_list)):\n",
    "    x *= Sample_list[i]\n",
    "\n",
    "print(\"Résultat :\", x)\n",
    "\n"
   ]
  },
  {
   "cell_type": "code",
   "execution_count": null,
   "id": "92890659",
   "metadata": {},
   "outputs": [],
   "source": [
    "sample_list = [(2, 5), (1, 2), (4, 4), (2, 3), (2, 1)]\n",
    "sample_list.sort()\n",
    "sample_list"
   ]
  },
  {
   "cell_type": "code",
   "execution_count": null,
   "id": "bf15faea",
   "metadata": {},
   "outputs": [],
   "source": [
    "d1 = {'a' : 100, 'b' : 200, 'c':300}\n",
    "\n",
    "d2 = {'a' : 300, 'b' : 200, 'd':400}\n",
    "\n",
    "d3 = {}\n",
    "\n",
    "for key in d1:\n",
    "    d3[key] = d1[key]\n",
    "\n",
    "for key in d2:\n",
    "    d3[key] = d3.get(key, 0) + d2[key]"
   ]
  },
  {
   "cell_type": "code",
   "execution_count": null,
   "id": "3c161bc0",
   "metadata": {},
   "outputs": [],
   "source": [
    "d3"
   ]
  },
  {
   "cell_type": "code",
   "execution_count": null,
   "id": "a55c1514",
   "metadata": {},
   "outputs": [],
   "source": [
    "companies = {'Lacoste', 'Ralph Lauren'}\n",
    "tech_companies = ['apple', 'google', 'apple']\n",
    "companies.update(tech_companies)\n",
    "print(\"After update():\", companies)"
   ]
  },
  {
   "cell_type": "code",
   "execution_count": null,
   "id": "9a45198b",
   "metadata": {},
   "outputs": [],
   "source": [
    "for x in ['apple', 'google', 'apple']:\n",
    "    print(x)"
   ]
  },
  {
   "cell_type": "code",
   "execution_count": null,
   "id": "56cb309a",
   "metadata": {},
   "outputs": [],
   "source": [
    "my_set = {\"rayan\":2009,\n",
    "          \"age\":16}\n",
    "\n",
    "\n",
    "my_set.pop(\"age\")"
   ]
  },
  {
   "cell_type": "code",
   "execution_count": null,
   "id": "7053af35",
   "metadata": {},
   "outputs": [],
   "source": [
    "my_set"
   ]
  },
  {
   "cell_type": "code",
   "execution_count": null,
   "id": "1e1a7c81",
   "metadata": {},
   "outputs": [],
   "source": [
    "def A_mean(x):\n",
    "    somme_x= sum(x)\n",
    "    nbr_x= len(x)\n",
    "    result= somme_x/nbr_x\n",
    "    return result"
   ]
  },
  {
   "cell_type": "code",
   "execution_count": null,
   "id": "725b2d3b",
   "metadata": {},
   "outputs": [],
   "source": [
    "my_list = [17, 18, 10, 15]\n",
    "moyenne_my_list = A_mean([17, 18, 10, 15, 11])\n",
    "moyenne_my_list"
   ]
  },
  {
   "cell_type": "markdown",
   "id": "a3f8f634",
   "metadata": {},
   "source": [
    "___"
   ]
  },
  {
   "cell_type": "markdown",
   "id": "e43ab4cb",
   "metadata": {},
   "source": [
    "### PYTHON OBJECT ORIENTED PROGRAMMING"
   ]
  },
  {
   "cell_type": "code",
   "execution_count": null,
   "id": "18cffff9",
   "metadata": {},
   "outputs": [],
   "source": [
    "class Car:\n",
    "    def __init__(self, model, year, color):\n",
    "        self.model = model\n",
    "        self.year = year\n",
    "        self.color = color\n",
    "    def drive(self):\n",
    "        print (\"This car is driving\")\n",
    "        # print(\"This \"+self.model+\" is driving\")\n",
    "    def stop(self):\n",
    "        print (\"This car stopped\")\n",
    "        # print(\"This \"+self.model+\" is stopped\")\n",
    "\n",
    "#     def __str__(self):\n",
    "#         return f\"{self.color} {self.model} ({self.year})\"\n",
    "# print(car_1)\n",
    "# # Output: Blue Toyota (2027)"
   ]
  },
  {
   "cell_type": "code",
   "execution_count": null,
   "id": "c13cbf76",
   "metadata": {},
   "outputs": [],
   "source": [
    "car_1 = Car(\"Toyota\",2027,\"Blue\")\n",
    "print(car_1.model)\n",
    "print(car_1.year)\n",
    "print(car_1.color)\n",
    "\n",
    "car_1.drive()\n",
    "car_1.stop()"
   ]
  },
  {
   "cell_type": "markdown",
   "id": "d3c74a41",
   "metadata": {},
   "source": [
    "___"
   ]
  },
  {
   "cell_type": "code",
   "execution_count": null,
   "id": "194c0c04",
   "metadata": {},
   "outputs": [],
   "source": [
    "def add_numbers(n1 = 100, n2 = 1000) :\n",
    "    résultat = n1 + n2\n",
    "    return résultat\n",
    "résultat = add_numbers(1,99)\n",
    "print(résultat)"
   ]
  },
  {
   "cell_type": "code",
   "execution_count": null,
   "id": "e92ba6a1",
   "metadata": {},
   "outputs": [],
   "source": [
    "test = lambda date : date.split('/')[0]\n",
    "date = '2020/03/10'\n",
    "print(test(date))"
   ]
  },
  {
   "cell_type": "code",
   "execution_count": null,
   "id": "e79a0b5c",
   "metadata": {},
   "outputs": [],
   "source": [
    "def calculator(num1,num2):\n",
    "\n",
    "    while True :\n",
    "        operator =input(\"Enter the operator (+, -, *, /):\")\n",
    "        if operator == '+':\n",
    "            return num1+num2\n",
    "        elif operator == '-':\n",
    "            return num1-num2\n",
    "        elif operator == '*':\n",
    "            return num1*num2\n",
    "        elif operator== '/':\n",
    "            if num2 != 0:\n",
    "                return num1/num2\n",
    "            else:\n",
    "                print(\"you can't divide by zero\")\n",
    "        else:\n",
    "            print('your operator is not valid, please enter a valid operator')\n"
   ]
  },
  {
   "cell_type": "code",
   "execution_count": null,
   "id": "a30fa169",
   "metadata": {},
   "outputs": [],
   "source": [
    "num1 = float(input(\"Enter the first number :\"))\n",
    "num2 = float(input(\"Enter the second number :\"))\n",
    "calculator(num1, num2)"
   ]
  },
  {
   "cell_type": "code",
   "execution_count": null,
   "id": "a8ff943c",
   "metadata": {},
   "outputs": [],
   "source": [
    "class Account:\n",
    "    def __init__(self, account_number, account_holder, balance = 0):\n",
    "        self.account_number = account_number\n",
    "        self.account_holder = account_holder\n",
    "        self.balance = balance  # décapsulation ;)\n",
    "\n",
    "    def deposit(self, amount):\n",
    "        if amount > 0:\n",
    "            self.balance += amount\n",
    "            print(f\"{amount}DA déposés avec succès.\")\n",
    "        else:\n",
    "            print(\"le montant du dépot doit être positif\")\n",
    "    def withdraw(self, amount):\n",
    "        if amount > self.balance:\n",
    "            print(\" Impossible de retirer, fonds insuffisants !\")\n",
    "        elif amount <= 0:\n",
    "            print(\"Le montant doit être positif.\")\n",
    "        else:\n",
    "            self.__balance -= amount\n",
    "            print(f\"{amount}DA retirés avec succès.\")\n",
    "\n",
    "    def check_balance(self):\n",
    "        return f\"Voila votre Solde actuel : {self.balance} DA\"\n",
    "       "
   ]
  },
  {
   "cell_type": "code",
   "execution_count": null,
   "id": "09917177",
   "metadata": {},
   "outputs": [],
   "source": [
    "Account_1= Account(\"031234567890143\", \"Rayan\", 10)\n",
    "\n",
    "while Account_1.balance < 100000000000000000000000000000000000:\n",
    "    Account_1.deposit(9000)\n",
    "\n",
    "\n",
    "# print(f\"Solde actuel : {mon_compte.check_balance()}€\")"
   ]
  },
  {
   "cell_type": "code",
   "execution_count": null,
   "id": "39baac8d",
   "metadata": {},
   "outputs": [],
   "source": [
    "import numpy as np\n",
    "# Creating a 1D array with an odd number of elements\n",
    "array1 = np.array([1, 2, 3, 4, 5])\n",
    "median = np.median(array1)\n",
    "print(\"Median:\", median)  # Output: 3.0"
   ]
  },
  {
   "cell_type": "code",
   "execution_count": null,
   "id": "84138cbf",
   "metadata": {},
   "outputs": [],
   "source": [
    "import numpy as np\n",
    "# Creating a 1D array with an even number of elements\n",
    "array2 = np.array([1, 2, 3, 4, 5, 7])\n",
    "median = np.median(array2)\n",
    "print(\"Median:\", median)  # Output: 3.5"
   ]
  },
  {
   "cell_type": "code",
   "execution_count": null,
   "id": "9ed9562b",
   "metadata": {},
   "outputs": [],
   "source": [
    "import numpy as np\n",
    "\n",
    "array1= np.array ([[2,5,7],[8,11,16]]) \n",
    "\n",
    "array1"
   ]
  },
  {
   "cell_type": "code",
   "execution_count": null,
   "id": "a809da29",
   "metadata": {},
   "outputs": [],
   "source": [
    "import random as rd\n",
    "# générer un programmme de lancer deux dés avec boucle de 100 puis ajouter la somme de chaque lancer dans une liste\n",
    "# puis afficher la fréquence de chaque rsultat possible... hadi hiya\n",
    "result = []\n",
    "for i in range (100):\n",
    "    dice1 = rd.randint(1, 6)\n",
    "    dice2 = rd.randint(1, 6)\n",
    "    dice_winner = dice1 + dice2\n",
    "    result.append(dice_winner)\n",
    "\n",
    "from collections import Counter\n",
    "compteur = Counter(result)\n",
    "# implémenter chaque resultat dans un une serie pandas, chaque series index est remplacé par les lancés, et chaque seies values est remplacé par la frequence d'apparition\n",
    "import pandas as pd\n",
    "series = pd.Series(compteur)\n",
    "series.index = [str(i) + \" lancé, avec\" for i in series.index]\n",
    "series.index = [str(i) + \" fréquence de\" for i in series.index ]\n",
    "series.name = \"Fréquence des résultats\"\n",
    "print(series)"
   ]
  }
 ],
 "metadata": {
  "kernelspec": {
   "display_name": "Python 3",
   "language": "python",
   "name": "python3"
  },
  "language_info": {
   "codemirror_mode": {
    "name": "ipython",
    "version": 3
   },
   "file_extension": ".py",
   "mimetype": "text/x-python",
   "name": "python",
   "nbconvert_exporter": "python",
   "pygments_lexer": "ipython3",
   "version": "3.13.3"
  }
 },
 "nbformat": 4,
 "nbformat_minor": 5
}
