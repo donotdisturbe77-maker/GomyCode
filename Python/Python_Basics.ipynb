{
  "cells": [
    {
      "cell_type": "markdown",
      "id": "a77de5c9",
      "metadata": {
        "id": "a77de5c9"
      },
      "source": [
        "# 👩‍💻 Welcome to the Python Fundamentals Practice Notebook!\n",
        "\n",
        "In this session, we’ll reinforce everything you’ve learned so far on the platform and introduce a few essential topics you’ll need as a Pythonista.\n",
        "\n",
        "## ✅ What You'll Learn Today:\n",
        "\n",
        "- Python syntax and core concepts\n",
        "- Variables, constants, operators, and data types\n",
        "- Strings, booleans, and type conversion\n",
        "- Conditional statements: if, elif, else\n",
        "- Loops: for & while\n",
        "- Python modules: random as an example\n",
        "- 🆕 **Essential missing pieces:**\n",
        "  - Lists, Tuples, Sets, and Dictionaries (Data Structures)\n",
        "  - Functions\n",
        "  - Intro to Object-Oriented Programming (OOP)\n",
        "\n",
        "> 🎯 This session uses **active learning**, so you’ll be solving small tasks and challenges along the way. Make sure to code along, test ideas, and ask questions!\n",
        "\n",
        "Ready? Let’s dive in 👇"
      ]
    },
    {
      "cell_type": "markdown",
      "id": "63bf7040",
      "metadata": {
        "id": "63bf7040"
      },
      "source": [
        "## 🧱 Python Syntax, Variables & Constants\n",
        "\n",
        "Python is known for its clean and readable syntax. You don’t need semicolons, and indentation matters!\n",
        "\n",
        "Let’s explore how to create and reassign variables."
      ]
    },
    {
      "cell_type": "code",
      "execution_count": 1,
      "id": "25752cdb",
      "metadata": {
        "id": "25752cdb"
      },
      "outputs": [
        {
          "name": "stdout",
          "output_type": "stream",
          "text": [
            "Alice 26 1.7\n",
            "Value of PI: 3.14159\n"
          ]
        }
      ],
      "source": [
        "# Variable assignment\n",
        "name = \"Alice\"\n",
        "age = 25\n",
        "height = 1.70\n",
        "\n",
        "# Reassigning a variable\n",
        "age = age + 1\n",
        "\n",
        "# Constants (Python doesn't have real constants, but naming in ALL CAPS is a convention)\n",
        "PI = 3.14159\n",
        "\n",
        "print(name, age, height)\n",
        "print(\"Value of PI:\", PI)"
      ]
    },
    {
      "cell_type": "markdown",
      "id": "6a2d6186",
      "metadata": {
        "id": "6a2d6186"
      },
      "source": [
        "A variable can have a short name (like x and y) or a more descriptive name (age, carname, total_volume).\n",
        "Rules for Python variables:\n",
        "* A variable name must start with a letter or the underscore character\n",
        "* A variable name cannot start with a number\n",
        "* A variable name can only contain alpha-numeric characters and underscores (A-z, 0-9, and _ )\n",
        "* Variable names are case-sensitive (age, Age and AGE are three different variables)\n",
        "* A variable name cannot be any of the Python keywords."
      ]
    },
    {
      "cell_type": "code",
      "execution_count": 2,
      "id": "6cb638df",
      "metadata": {
        "id": "6cb638df"
      },
      "outputs": [
        {
          "name": "stdout",
          "output_type": "stream",
          "text": [
            "<class 'int'> 15\n",
            "<class 'str'> fifteen\n"
          ]
        }
      ],
      "source": [
        "# acceptable ways of writing variables are\n",
        "myvar = \"AI\"\n",
        "my_var = \"AI\"\n",
        "_my_var = \"AI\"\n",
        "# for strings you can also use ' ' instead of \" \"\n",
        "myVar = 'AI'\n",
        "MYVAR = 'AI'\n",
        "myvar2 = 'AI'\n",
        "# Python variables are also case sensitive\n",
        "a = 15\n",
        "A = \"fifteen\"\n",
        "# the value for A won't replace the value for a\n",
        "print(type(a), a)\n",
        "print(type(A),A)"
      ]
    },
    {
      "cell_type": "markdown",
      "id": "e77f573b",
      "metadata": {
        "id": "e77f573b"
      },
      "source": [
        "### 🔍 Multi-line Statements in Python\n",
        "\n",
        "Sometimes, when your statement is too long, you can split it into multiple lines using:\n",
        "\n",
        "- A **backslash (`\\`)**\n",
        "- Or **parentheses `()`**\n",
        "\n",
        "Both are functionally the same — pick what feels clearer.\n",
        "\n",
        "💡 **Commenting a block of code** in Jupyter Notebook:\n",
        "\n",
        "- Windows/Linux: `Ctrl + /`\n",
        "- Mac: `Cmd + /`\n",
        "- (Alternative) JupyterLab: `Alt + Shift + A` (multi-line block comment)\n",
        "\n",
        "Let’s test this!"
      ]
    },
    {
      "cell_type": "code",
      "execution_count": null,
      "id": "e40c9447",
      "metadata": {
        "id": "e40c9447"
      },
      "outputs": [
        {
          "name": "stdout",
          "output_type": "stream",
          "text": [
            "75\n"
          ]
        }
      ],
      "source": [
        "# Multi-line using backslash \\\n",
        "A = 5 + 10 + \\\n",
        "    15 + 20 + \\\n",
        "    25\n",
        "\n",
        "# Multi-line using parentheses ()\n",
        "A = (5 + 10 +\n",
        "     15 + 20 +\n",
        "     25)\n",
        "\n",
        "print(A)"
      ]
    },
    {
      "cell_type": "markdown",
      "id": "63fcc343",
      "metadata": {
        "id": "63fcc343"
      },
      "source": [
        "## 📦 Working with Variables in Python\n",
        "\n",
        "Python handles variable creation and memory allocation **dynamically** — no need to declare types beforehand. Here are some key things you can do with variables:"
      ]
    },
    {
      "cell_type": "code",
      "execution_count": null,
      "id": "0a8d6447",
      "metadata": {
        "id": "0a8d6447"
      },
      "outputs": [
        {
          "name": "stdout",
          "output_type": "stream",
          "text": [
            "<class 'int'>\n"
          ]
        }
      ],
      "source": [
        "# 1. Assigning a value to a variable\n",
        "x = 10\n",
        "print(x)\n",
        "\n",
        "# 2. Reassigning a value to a variable (to a different data type)\n",
        "x = \"Welcome to Python world\"\n",
        "print(x)\n",
        "\n",
        "# 3. Assigning multiple values to multiple variables\n",
        "a, b, c = 5, 3.2, \"Hello\"\n",
        "# or you can use the following syntax:\n",
        "a = 5; b = 3.2 ; c = \"Hello\"\n",
        "\n",
        "print(a)\n",
        "print(b)\n",
        "print(c)\n",
        "\n",
        "# 4. Assigning the same value to multiple variables\n",
        "x = y = z = \"same\"\n",
        "print(x)\n",
        "print(y)\n",
        "print(z)\n",
        "\n",
        "# 5. Checking the type of a variable\n",
        "x = 5\n",
        "print(type(x))\n"
      ]
    },
    {
      "cell_type": "markdown",
      "id": "7b73f11c",
      "metadata": {
        "id": "7b73f11c"
      },
      "source": [
        "### 🎤 Getting Input from the User\n",
        "\n",
        "You can use the `input()` function to get data from the user via the keyboard. It always returns the input as a **string**, so you'll need to convert it if you're expecting numbers (more on that later).\n"
      ]
    },
    {
      "cell_type": "code",
      "execution_count": 6,
      "id": "8d86e0bd",
      "metadata": {
        "id": "8d86e0bd"
      },
      "outputs": [
        {
          "name": "stdout",
          "output_type": "stream",
          "text": [
            "type de age <class 'str'>\n",
            "Hello Rayan !\n",
            "You are 16 years old.\n"
          ]
        }
      ],
      "source": [
        "# Getting input from the user\n",
        "name = input(\"Enter your name: \")\n",
        "age = input(\"Enter your age: \")\n",
        "\n",
        "print('type de age', type(age))\n",
        "# Converting age from string to int\n",
        "age = int(age)\n",
        "\n",
        "print(\"Hello\", name, \"!\")\n",
        "print(\"You are\", age, \"years old.\")"
      ]
    },
    {
      "cell_type": "markdown",
      "id": "313e4fcf",
      "metadata": {
        "id": "313e4fcf"
      },
      "source": [
        "## 🧠 Activity 1 – Variables & Input\n",
        "\n",
        "Let's test what you’ve just learned!\n",
        "\n",
        "🔧 Your Task:\n",
        "\n",
        "1. Create a variable `my_name` and assign your name to it.\n",
        "2. Create a variable `my_age` and assign your age to it.\n",
        "3. Print a greeting like:  \n",
        "   `\"Hello, my name is X and I am Y years old.\"`\n",
        "4. Reassign `my_age` to a new value (for example: `my_age = my_age + 1`) and print your new age.\n",
        "5. Use `input()` to ask the user for their favorite color and store it in a variable.\n",
        "6. Print a sentence using all three variables (`my_name`, `my_age`, and the favorite color).\n",
        "\n",
        "✅ Example output:\n",
        "Hello, my name is Mohamed and I am 30 years old. Next year, I will be 31. Your favorite color is blue? Nice choice!"
      ]
    },
    {
      "cell_type": "markdown",
      "id": "1e07107c",
      "metadata": {
        "id": "1e07107c"
      },
      "source": [
        "### Your Response:"
      ]
    },
    {
      "cell_type": "code",
      "execution_count": null,
      "id": "ae4830d2",
      "metadata": {},
      "outputs": [],
      "source": []
    },
    {
      "cell_type": "code",
      "execution_count": 7,
      "id": "8769c8c1",
      "metadata": {
        "id": "8769c8c1"
      },
      "outputs": [
        {
          "name": "stdout",
          "output_type": "stream",
          "text": [
            "Hello, my name is rayan and I am 16 years old\n",
            "you will be 16 next year !\n",
            "Hello, my name is rayan and I am 16 years old. Next year, I will be 17 . Your favorite color is red ? Nice choice!\n"
          ]
        }
      ],
      "source": [
        "X=\"rayan\"\n",
        "Y=16\n",
        "print(\"Hello, my name is\",X,\"and I am\",Y,\"years old\")\n",
        "Z= Y+1\n",
        "print (\"you will be\",Y,\"next year !\")\n",
        "\n",
        "color=input('Enter your favourite color:')\n",
        "print(\"Hello, my name is\",X,\"and I am\",Y,\"years old. Next year, I will be\",Z,\". Your favorite color is\",color,\"? Nice choice!\")"
      ]
    },
    {
      "cell_type": "markdown",
      "id": "5fc75028",
      "metadata": {
        "id": "5fc75028"
      },
      "source": [
        "## ➕ Arithmetic Operators\n",
        "\n",
        "Arithmetic operators are used to perform basic mathematical operations.\n",
        "\n",
        "| Symbol | Name             | Example     | Result  |\n",
        "|--------|------------------|-------------|---------|\n",
        "| +      | Addition          | x + y       | 11      |\n",
        "| -      | Subtraction       | x - y       | 5       |\n",
        "| *      | Multiplication    | x * y       | 24      |\n",
        "| /      | Division          | x / y       | 2.66    |\n",
        "| %      | Modulus (remainder) | x % y     | 2       |\n",
        "| **     | Exponentiation    | x ** y      | 512     |\n",
        "| //     | Floor division    | x // y      | 2       |\n"
      ]
    },
    {
      "cell_type": "code",
      "execution_count": null,
      "id": "caa13d97",
      "metadata": {
        "id": "caa13d97"
      },
      "outputs": [],
      "source": [
        "x = 8\n",
        "y = 3\n",
        "\n",
        "print(\"Addition:\", x + y)\n",
        "print(\"Subtraction:\", x - y)\n",
        "print(\"Multiplication:\", x * y)\n",
        "print(\"Division:\", x / y)\n",
        "print(\"Modulus:\", x % y)\n",
        "print(\"Exponentiation:\", x ** y)\n",
        "print(\"Floor Division:\", x // y)\n"
      ]
    },
    {
      "cell_type": "markdown",
      "id": "223332a9",
      "metadata": {
        "id": "223332a9"
      },
      "source": [
        "## ⚖️ Comparison Operators\n",
        "\n",
        "Comparison operators return a Boolean value (`True` or `False`) based on comparing two values.\n",
        "\n",
        "| Operator | Name                        | Example     | Result                                     |\n",
        "|----------|-----------------------------|-------------|--------------------------------------------|\n",
        "| ==       | Equal to                    | x == y      | True if x is equal to y, else False        |\n",
        "| !=       | Not equal to                | x != y      | True if x is not equal to y, else False    |\n",
        "| >        | Greater than                | x > y       | True if x is greater than y                |\n",
        "| <        | Less than                   | x < y       | True if x is less than y                   |\n",
        "| >=       | Greater than or equal to    | x >= y      | True if x is greater than or equal to y    |\n",
        "| <=       | Less than or equal to       | x <= y      | True if x is less than or equal to y       |\n"
      ]
    },
    {
      "cell_type": "code",
      "execution_count": null,
      "id": "ed61725a",
      "metadata": {
        "id": "ed61725a"
      },
      "outputs": [],
      "source": [
        "x = 8\n",
        "y = 3\n",
        "\n",
        "print(\"x == y:\", x == y)\n",
        "print(\"x != y:\", x != y)\n",
        "print(\"x > y:\", x > y)\n",
        "print(\"x < y:\", x < y)\n",
        "print(\"x >= y:\", x >= y)\n",
        "print(\"x <= y:\", x <= y)"
      ]
    },
    {
      "cell_type": "markdown",
      "id": "4fd2dc7a",
      "metadata": {
        "id": "4fd2dc7a"
      },
      "source": [
        "## 🔗 Logical Operators\n",
        "\n",
        "Logical operators are used to combine conditional statements.\n",
        "\n",
        "| Operator | Description                                         | Example                   | Result |\n",
        "|----------|-----------------------------------------------------|---------------------------|--------|\n",
        "| and      | Returns True if both statements are true            | x < 5 and x < 10          | False  |\n",
        "| or       | Returns True if at least one statement is true      | x < 5 or x < 10           | True   |\n",
        "| not      | Reverses the result (True becomes False and vice versa) | not(x < 5 and x < 10) | True   |\n"
      ]
    },
    {
      "cell_type": "code",
      "execution_count": null,
      "id": "637cf72c",
      "metadata": {
        "id": "637cf72c"
      },
      "outputs": [],
      "source": [
        "x = 8\n",
        "\n",
        "print(\"x < 5 and x < 10:\", x < 5 and x < 10)\n",
        "print(\"x < 5 or x < 10:\", x < 5 or x < 10)\n",
        "print(\"not (x < 5 and x < 10):\", not (x < 5 and x < 10))\n"
      ]
    },
    {
      "cell_type": "markdown",
      "id": "0f7453a1",
      "metadata": {
        "id": "0f7453a1"
      },
      "source": [
        "## 🔍 Membership Operators\n",
        "\n",
        "Membership operators check if a value exists within a sequence (like a list or string).\n",
        "\n",
        "| Operator | Example         | Description                                   |\n",
        "|----------|-----------------|-----------------------------------------------|\n",
        "| in       | x in [1, 2, 3]  | Returns True if x is present in the sequence  |\n",
        "| not in   | x not in [1, 2, 3] | Returns True if x is NOT present in sequence |\n"
      ]
    },
    {
      "cell_type": "code",
      "execution_count": null,
      "id": "1940b61c",
      "metadata": {
        "id": "1940b61c"
      },
      "outputs": [],
      "source": [
        "x = \"G\"\n",
        "greetings = \"Good Morning\"\n",
        "\n",
        "print(\"x in my_list:\", x in greetings)\n",
        "print(\"x not in my_list:\", x not in greetings)"
      ]
    },
    {
      "cell_type": "markdown",
      "id": "5bae1143",
      "metadata": {
        "id": "5bae1143"
      },
      "source": [
        "## 🧵 What is a Python String?\n",
        "\n",
        "A **string** in Python is a sequence of characters enclosed in:\n",
        "- Single quotes `'...'`\n",
        "- Double quotes `\"...\"`\n",
        "- Triple quotes `'''...'''` or `\"\"\"...\"\"\"`\n",
        "\n",
        "Strings are used to represent **textual data** and are **immutable**, meaning their content **cannot be changed** after creation."
      ]
    },
    {
      "cell_type": "code",
      "execution_count": null,
      "id": "577d5863",
      "metadata": {
        "id": "577d5863"
      },
      "outputs": [],
      "source": [
        "my_string = \"Welcome to Python\"\n",
        "print(my_string)"
      ]
    },
    {
      "cell_type": "markdown",
      "id": "58fdfbe9",
      "metadata": {
        "id": "58fdfbe9"
      },
      "source": [
        "### 🔢 Accessing Characters in a String\n",
        "\n",
        "You can access individual characters using **indexing**:\n",
        "- Index starts at `0` for the first character.\n",
        "- Use `-1` to access the last character.\n",
        "\n",
        "| Expression         | Description         | Output      |\n",
        "|--------------------|---------------------|-------------|\n",
        "| `my_string[0]`     | First character     | `W`         |\n",
        "| `my_string[-1]`    | Last character      | `n`         |\n",
        "\n",
        "> ⚠️ Index must be within the valid range or you'll get an error."
      ]
    },
    {
      "cell_type": "code",
      "execution_count": null,
      "id": "f8e6eb9d",
      "metadata": {
        "id": "f8e6eb9d"
      },
      "outputs": [],
      "source": [
        "print(\"my_string[0] =\", my_string[0])   # First character\n",
        "print(\"my_string[-1] =\", my_string[-1]) # Last character"
      ]
    },
    {
      "cell_type": "markdown",
      "id": "ab0572ae",
      "metadata": {
        "id": "ab0572ae"
      },
      "source": [
        "### ✂️ Slicing Strings\n",
        "\n",
        "You can extract substrings using slicing syntax: `string[start:end]`\n",
        "\n",
        "- `start`: Starting index (inclusive)\n",
        "- `end`: Ending index (exclusive)\n",
        "\n",
        "| Expression             | Description                    | Output           |\n",
        "|------------------------|--------------------------------|------------------|\n",
        "| `my_string[1:5]`        | From index 1 to 4              | `elco`           |\n",
        "| `my_string[5:-2]`       | From index 5 to 2nd last       | `me to Pyth`     |\n",
        "| `my_string[:7]`         | From start to index 6          | `Welcome`        |\n",
        "| `my_string[11:]`        | From index 11 to end           | `Python`         |\n"
      ]
    },
    {
      "cell_type": "code",
      "execution_count": null,
      "id": "cb068bff",
      "metadata": {
        "id": "cb068bff"
      },
      "outputs": [],
      "source": [
        "print(\"my_string[1:5] =\", my_string[1:5])\n",
        "print(\"my_string[5:-2] =\", my_string[5:-2])\n",
        "print(\"my_string[:7] =\", my_string[:7])\n",
        "print(\"my_string[11:] =\", my_string[11:])"
      ]
    },
    {
      "cell_type": "markdown",
      "id": "422c9110",
      "metadata": {
        "id": "422c9110"
      },
      "source": [
        "### ➕ Concatenating Strings\n",
        "\n",
        "Use the `+` operator to join strings. This creates a **new string** and does not change the originals.\n",
        "\n",
        "| Expression                | Output                         |\n",
        "|---------------------------|--------------------------------|\n",
        "| `str1 + str2`             | `Welcome to coding world!`     |\n"
      ]
    },
    {
      "cell_type": "code",
      "execution_count": null,
      "id": "5289eec1",
      "metadata": {
        "id": "5289eec1"
      },
      "outputs": [],
      "source": [
        "str1 = \"Welcome to \"\n",
        "str2 = \"coding world!\"\n",
        "result = str1 + str2\n",
        "print(\"str1 + str2 =\", result)"
      ]
    },
    {
      "cell_type": "markdown",
      "id": "de0af54e",
      "metadata": {
        "id": "de0af54e"
      },
      "source": [
        "## 🔄 Type Conversions in Python\n",
        "\n",
        "Type conversion allows you to convert variables from one data type to another.  \n",
        "Here's a summary of allowed conversions:\n",
        "\n",
        "| Source Type | Destination Type | Notes                         |\n",
        "|-------------|------------------|-------------------------------|\n",
        "| `int`       | `float`, `str`   | Safe conversions              |\n",
        "| `float`     | `int`, `str`     | `int()` removes decimals      |\n",
        "| `str`       | `int`, `float`   | Only if the string is numeric |\n",
        "| `bool`      | `int`, `str`     | `True` → `1`, `False` → `0`   |\n",
        "\n",
        "Use built-in functions: `int()`, `float()`, `str()`, `bool()` for conversion.\n"
      ]
    },
    {
      "cell_type": "code",
      "execution_count": null,
      "id": "92a53bf6",
      "metadata": {
        "id": "92a53bf6"
      },
      "outputs": [],
      "source": [
        "# Conversions\n",
        "x = 10\n",
        "print(\"int to float:\", float(x))\n",
        "print(\"int to str:\", str(x))\n",
        "\n",
        "y = \"45\"\n",
        "print(\"str to int:\", int(y))\n",
        "print(\"str to float:\", float(y))\n",
        "\n",
        "f = 9.8\n",
        "print(\"float to int:\", int(f))  # decimal is removed\n",
        "\n",
        "b = True\n",
        "print(\"bool to int:\", int(b))   # True = 1\n",
        "print(\"bool to str:\", str(b))   # \"True\""
      ]
    },
    {
      "cell_type": "markdown",
      "id": "1f4c6251",
      "metadata": {
        "id": "1f4c6251"
      },
      "source": [
        "## ⚖️ Conditional Statements\n",
        "\n",
        "Python uses `if`, `if-else`, and `if-elif-else` to execute code blocks based on conditions.\n",
        "\n",
        "### ✔️ When to use what?\n",
        "\n",
        "| Statement      | Use case                                                  |\n",
        "|----------------|-----------------------------------------------------------|\n",
        "| `if`           | When there's only **one condition** to check              |\n",
        "| `if-else`      | When you need an **either-or** logic                      |\n",
        "| `if-elif-else` | When you have **multiple options** or ranges to evaluate  |\n",
        "\n",
        "### 📌 Indentation is important!\n",
        "- Use **Tab** to indent blocks inside conditions\n",
        "- Use **Shift + Tab** to un-indent selected lines\n"
      ]
    },
    {
      "cell_type": "code",
      "execution_count": null,
      "id": "58a55977",
      "metadata": {
        "id": "58a55977"
      },
      "outputs": [],
      "source": [
        "# if\n",
        "x = 7\n",
        "if x > 5:\n",
        "    print(\"x is greater than 5\")\n",
        "\n",
        "# if-else\n",
        "if x % 2 == 0:\n",
        "    print(\"Even number\")\n",
        "else:\n",
        "    print(\"Odd number\")\n",
        "\n",
        "# if-elif-else\n",
        "grade = 85\n",
        "if grade >= 90:\n",
        "    print(\"Grade: A\")\n",
        "elif grade >= 80:\n",
        "    print(\"Grade: B\")\n",
        "elif grade >= 70:\n",
        "    print(\"Grade: C\")\n",
        "else:\n",
        "    print(\"Grade: F\")\n"
      ]
    },
    {
      "cell_type": "markdown",
      "id": "30da6de1",
      "metadata": {
        "id": "30da6de1"
      },
      "source": [
        "## 🔁 For Loops\n",
        "\n",
        "Use `for` loops when you **know in advance** how many times to repeat.\n",
        "\n",
        "### 📦 `range()` Function\n",
        "\n",
        "`range(start, stop, step)` is commonly used with `for` loops:\n",
        "\n",
        "- `range(5)` → 0, 1, 2, 3, 4\n",
        "- `range(1, 6)` → 1 to 5\n",
        "- `range(2, 10, 2)` → Even numbers between 2 and 10"
      ]
    },
    {
      "cell_type": "code",
      "execution_count": null,
      "id": "38fd529c",
      "metadata": {
        "id": "38fd529c"
      },
      "outputs": [],
      "source": [
        "# Simple loop\n",
        "for i in range(5):\n",
        "    print(\"i =\", i)\n",
        "\n",
        "# Loop from 1 to 5\n",
        "for i in range(1, 6):\n",
        "    print(\"Number:\", i)\n",
        "\n",
        "# Even numbers\n",
        "for i in range(2, 10, 2):\n",
        "    print(\"Even:\", i)"
      ]
    },
    {
      "cell_type": "markdown",
      "id": "a8d10a5b",
      "metadata": {
        "id": "a8d10a5b"
      },
      "source": [
        "## 🔄 While Loops\n",
        "\n",
        "Use `while` loops when the **number of iterations is unknown**, and you loop **based on a condition**.\n",
        "\n",
        "### 🧪 Common uses:\n",
        "- Repeating until a condition becomes False\n",
        "- Loops with user input\n",
        "- Infinite loops with a `break` condition\n"
      ]
    },
    {
      "cell_type": "code",
      "execution_count": null,
      "id": "b2e2eda5",
      "metadata": {
        "id": "b2e2eda5"
      },
      "outputs": [],
      "source": [
        "# Basic while loop\n",
        "x = 1\n",
        "while x <= 5:\n",
        "    print(\"x =\", x)\n",
        "    x += 1\n",
        "\n",
        "# Conditional while loop\n",
        "a = 0\n",
        "while a < 10:\n",
        "    print(\"a =\", a)\n",
        "    a += 2\n",
        "\n",
        "# Loop with break\n",
        "counter = 0\n",
        "while True:\n",
        "    print(\"Counter =\", counter)\n",
        "    counter += 1\n",
        "    if counter == 3:\n",
        "        break\n"
      ]
    },
    {
      "cell_type": "markdown",
      "id": "f0faa297",
      "metadata": {
        "id": "f0faa297"
      },
      "source": [
        "## 📦 Modules in Python\n",
        "\n",
        "A **module** is a file containing Python definitions and functions. You can **import modules** to reuse existing functionality.\n",
        "\n",
        "Common modules: `math`, `random`, `datetime`, `os`, etc.\n",
        "\n",
        "### 🎲 The `random` Module\n",
        "\n",
        "Use this module to generate random values:\n",
        "- `random.randint(a, b)` → Random integer between a and b\n",
        "- `random.random()` → Random float between 0 and 1\n"
      ]
    },
    {
      "cell_type": "code",
      "execution_count": null,
      "id": "c03f42c4",
      "metadata": {
        "id": "c03f42c4"
      },
      "outputs": [],
      "source": [
        "import random\n",
        "\n",
        "# Random integer between 1 and 10\n",
        "rand_int = random.randint(1, 10)\n",
        "print(\"Random Integer:\", rand_int)\n",
        "\n",
        "# Random float between 0 and 1\n",
        "rand_float = random.random()\n",
        "print(\"Random Float:\", rand_float)\n",
        "\n",
        "# Random float between 1 and 10\n",
        "rand_float_range = random.uniform(1, 10)\n",
        "print(\"Random Float (1 to 10):\", rand_float_range)\n"
      ]
    },
    {
      "cell_type": "markdown",
      "id": "1462e6a7",
      "metadata": {
        "id": "1462e6a7"
      },
      "source": [
        "## 🎲 Activity 2: Simulate a Coin Flip using the `random` module\n",
        "\n",
        "### Step 1️⃣: Coin Flip (Pile ou Face)\n",
        "Use the `random` module to generate either 0 or 1 randomly to simulate a coin flip.\n",
        "\n",
        "- If it's `0`, the result is **Tails** (**Pile** in French)\n",
        "- If it's `1`, the result is **Heads** (**Face** in French)\n",
        "\n",
        "### Step 2️⃣: 10 Simulated Throws\n",
        "Use a loop to simulate 10 throws. Display the throw number and the result (Tails or Heads).\n",
        "\n",
        "### Step 3️⃣: 100 Throws Until You Get Heads\n",
        "Simulate up to 100 throws. Stop the loop once you get **Heads** (Face) and display on which throw it happened."
      ]
    },
    {
      "cell_type": "markdown",
      "id": "d15845be",
      "metadata": {
        "id": "d15845be"
      },
      "source": [
        "### Your Response:"
      ]
    },
    {
      "cell_type": "code",
      "execution_count": null,
      "id": "ceeec21d",
      "metadata": {
        "id": "ceeec21d"
      },
      "outputs": [],
      "source": []
    },
    {
      "cell_type": "markdown",
      "id": "22fab92a",
      "metadata": {
        "id": "22fab92a"
      },
      "source": [
        "## 📦 Python Data Structures\n",
        "\n",
        "Python provides several built-in data structures. Here's a quick comparison:\n",
        "\n",
        "| Structure    | Mutable | Ordered | Indexed | Allows Duplicates |\n",
        "|--------------|---------|---------|---------|-------------------|\n",
        "| **List**     | ✅ Yes  | ✅ Yes  | ✅ Yes  | ✅ Yes            |\n",
        "| **Tuple**    | ❌ No   | ✅ Yes  | ✅ Yes  | ✅ Yes            |\n",
        "| **Set**      | ✅ Yes  | ❌ No   | ❌ No   | ❌ No             |\n",
        "| **Dictionary**| ✅ Yes | ✅ Yes  | ✅ Keys | ✅ Keys must be unique |\n"
      ]
    },
    {
      "cell_type": "code",
      "execution_count": null,
      "id": "a0b05fcd",
      "metadata": {
        "id": "a0b05fcd"
      },
      "outputs": [],
      "source": [
        "# List\n",
        "fruits = [\"apple\", \"banana\", \"apple\"]\n",
        "print(\"List:\", fruits)\n",
        "\n",
        "# Tuple\n",
        "colors = (\"red\", \"green\", \"blue\")\n",
        "print(\"Tuple:\", colors)\n",
        "\n",
        "# Set\n",
        "unique_numbers = {1, 2, 2, 3}\n",
        "print(\"Set:\", unique_numbers)  # Duplicates removed\n",
        "\n",
        "# Dictionary\n",
        "person = {\"name\": \"Alice\", \"age\": 25, \"job\": \"Developer\"}\n",
        "print(\"Dictionary:\", person)\n"
      ]
    },
    {
      "cell_type": "markdown",
      "id": "19ecb25b",
      "metadata": {
        "id": "19ecb25b"
      },
      "source": [
        "### List Operations"
      ]
    },
    {
      "cell_type": "code",
      "execution_count": null,
      "id": "5aa514e9",
      "metadata": {
        "id": "5aa514e9"
      },
      "outputs": [
        {
          "name": "stdout",
          "output_type": "stream",
          "text": [
            "After pop: ['apple', 'apple']\n"
          ]
        }
      ],
      "source": [
        "fruits = [\"apple\", \"banana\", \"apple\"]\n",
        "# add a new item at the end of the list\n",
        "fruits.append(\"orange\")\n",
        "print(\"After append:\", fruits)\n",
        "# list removes the first occurrence of the value\n",
        "fruits.remove(\"apple\")\n",
        "print(\"After remove:\", fruits)\n",
        "# insert at index (1)\n",
        "fruits.insert(1, \"kiwi\")\n",
        "print(\"After insert:\", fruits)\n",
        "# sort the list\n",
        "fruits.sort()\n",
        "print(\"After sort:\", fruits)\n",
        "# remove with index (1)\n",
        "fruits.pop(1)\n",
        "print(\"After pop:\", fruits)"
      ]
    },
    {
      "cell_type": "markdown",
      "id": "0ab82034",
      "metadata": {
        "id": "0ab82034"
      },
      "source": [
        "## 🔧 Functions in Python\n",
        "\n",
        "A **function** is a reusable block of code that performs a specific task.  \n",
        "We use functions to:\n",
        "\n",
        "- Avoid code repetition\n",
        "- Organize programs into logical blocks\n",
        "- Make code easier to maintain and test\n",
        "\n",
        "### 🧠 Syntax:\n",
        "```python\n",
        "def function_name(parameters):\n",
        "    # code block\n",
        "    return result\n"
      ]
    },
    {
      "cell_type": "code",
      "execution_count": null,
      "id": "04bf9b6d",
      "metadata": {
        "id": "04bf9b6d"
      },
      "outputs": [],
      "source": [
        "# function that calculates the arethmetic mean of a list of numbers\n",
        "def calculate_mean(numbers):\n",
        "    return sum(numbers) / len(numbers)\n",
        "\n",
        "scores = [10, 20, 30, 40]\n",
        "average = calculate_mean(scores)\n",
        "print(\"Mean:\", average)"
      ]
    },
    {
      "cell_type": "markdown",
      "id": "76ae5ee2",
      "metadata": {
        "id": "76ae5ee2"
      },
      "source": [
        "## 🧱 Introduction to Object-Oriented Programming (OOP)\n",
        "\n",
        "OOP allows you to model real-world entities using **classes** and **objects**.\n",
        "\n",
        "- A **class** is a blueprint for creating objects.\n",
        "- An **object** is an instance of a class.\n",
        "\n",
        "### 🎯 Why use OOP?\n",
        "- Organize code logically\n",
        "- Reuse and extend code using inheritance\n",
        "- Encapsulate data and behavior\n",
        "\n",
        "### 🧩 Special Methods:\n",
        "- `__init__()` → Constructor, runs when you create a new object\n",
        "- `__str__()` → Returns a string representation of the object"
      ]
    },
    {
      "cell_type": "code",
      "execution_count": null,
      "id": "9aab24f1",
      "metadata": {
        "id": "9aab24f1"
      },
      "outputs": [],
      "source": [
        "class Person:\n",
        "    def __init__(self, name, age, profession):\n",
        "        self.name = name\n",
        "        self.age = age\n",
        "        self.profession = profession\n",
        "\n",
        "    def __str__(self):\n",
        "        return f\"{self.name}, {self.age} years old, works as a {self.profession}\"\n",
        "\n",
        "# Creating and printing a Person object\n",
        "person1 = Person(\"Alice\", 30, \"Engineer\")\n",
        "print(person1)"
      ]
    },
    {
      "cell_type": "markdown",
      "id": "e4b3a179",
      "metadata": {
        "id": "e4b3a179"
      },
      "source": [
        "## 🏁 Final Challenge: Student Result Calculator\n",
        "\n",
        "🎯 **Objective**: Create a Python program that allows a student to input their marks and calculates their final result.\n",
        "\n",
        "### 🎓 Instructions:\n",
        "\n",
        "1. Define the coefficients of the three main courses:\n",
        "   - `maths`: 5\n",
        "   - `computer science`: 3\n",
        "   - `sports`: 1\n",
        "\n",
        "2. Prompt the student to enter their **marks** for each course (on /20). Make sure to convert the input to `float`.\n",
        "\n",
        "3. Define a **function** that takes the marks and calculates the **overall mark** using the formula:\n",
        "\n",
        "$$\n",
        "\\text{overall mark} = \\frac{(\\text{maths} \\times 5 + \\text{computer science} \\times 3 + \\text{sports} \\times 1)}{5 + 3 + 1}\n",
        "$$\n",
        "\n",
        "\n",
        "\n",
        "4. Use an **if condition** to determine if the student **succeeded** (overall mark ≥ 10) or **failed** (mark < 10).\n",
        "\n",
        "5. Create a `Student` **class** with the following:\n",
        "   - Attributes: `name`, `overallmark`, `status`\n",
        "   - Method `__str__()` to return:  \n",
        "     `\"StudentName has Succeeded/Failed with an overall mark of X\"`\n",
        "\n",
        "6. At the end, **print** the result using the class and method.\n",
        "\n",
        "💡 **Tip**: Reuse everything you've learned so far!\n",
        "\n",
        "Sure! Here’s the markdown version of your sentence:\n",
        "\n",
        "\n",
        "💡 **For those who don't like markdown:**  \n",
        "Here's the activity in a Google Docs file for a better view:  \n",
        "👉 [Click on the link](https://docs.google.com/document/d/1UebR4CLwrbaPpwt58Pj0jGyk8eXA0f8oLMknfPQo3ks/edit?tab=t.0)\n",
        "\n"
      ]
    },
    {
      "cell_type": "markdown",
      "id": "9798f95d",
      "metadata": {
        "id": "9798f95d"
      },
      "source": [
        "## Your Solution:"
      ]
    },
    {
      "cell_type": "code",
      "execution_count": null,
      "id": "0a646eb3",
      "metadata": {
        "id": "0a646eb3"
      },
      "outputs": [],
      "source": []
    }
  ],
  "metadata": {
    "colab": {
      "provenance": []
    },
    "kernelspec": {
      "display_name": "Python 3",
      "language": "python",
      "name": "python3"
    },
    "language_info": {
      "codemirror_mode": {
        "name": "ipython",
        "version": 3
      },
      "file_extension": ".py",
      "mimetype": "text/x-python",
      "name": "python",
      "nbconvert_exporter": "python",
      "pygments_lexer": "ipython3",
      "version": "3.13.3"
    }
  },
  "nbformat": 4,
  "nbformat_minor": 5
}
