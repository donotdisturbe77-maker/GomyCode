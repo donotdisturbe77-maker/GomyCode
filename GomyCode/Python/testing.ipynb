{
 "cells": [
  {
   "cell_type": "code",
   "execution_count": 10,
   "id": "8b705ea3",
   "metadata": {},
   "outputs": [
    {
     "name": "stdout",
     "output_type": "stream",
     "text": [
      "array1d = [11 21 32]\n",
      "array2d :\n",
      "[41 62 13 94]\n",
      "[15  6 70 88]\n",
      "\n",
      "94\n",
      "\n",
      "[145  21  32]\n",
      "\n",
      "the third element of array2d of the second row : 87\n"
     ]
    }
   ],
   "source": [
    "# this is 1D array\n",
    "import numpy as np\n",
    "array1d= np.array([11,21,32])\n",
    "print(\"array1d =\", array1d)\n",
    "\n",
    "# this is 2d array\n",
    "array2d = np.array([[41,62,13,94],\n",
    "                    [15,6,70,88]])\n",
    "print(\"array2d :\")\n",
    "for row in array2d:\n",
    "    print(row)\n",
    "\n",
    "# Space\n",
    "print()\n",
    "\n",
    "# Access and print elements from the NumPy array using their indices\n",
    "print(array2d[0,-1])\n",
    "\n",
    "# Space\n",
    "print()\n",
    "\n",
    "# change the value of the first element of array1d\n",
    "array1d[0]=145\n",
    "print(array1d)\n",
    "\n",
    "# Space\n",
    "print()\n",
    "\n",
    "# change the of the third element of array2d of the second row\n",
    "array2d[1,3] = 87\n",
    "print(\"the third element of array2d of the second row :\", array2d[1,3])"
   ]
  },
  {
   "cell_type": "markdown",
   "id": "026d00dd",
   "metadata": {},
   "source": [
    "---"
   ]
  },
  {
   "cell_type": "code",
   "execution_count": null,
   "id": "7d554f69",
   "metadata": {},
   "outputs": [
    {
     "name": "stdout",
     "output_type": "stream",
     "text": [
      "result1d : [1 3 5 7 2 4 6 8]\n",
      "result2d :\n",
      "[1 3 5 7]\n",
      "[2 4 6 8]\n",
      "\n",
      "result3d :\n",
      "[[1 3]\n",
      " [5 7]]\n",
      "[[2 4]\n",
      " [6 8]]\n",
      "\n"
     ]
    }
   ],
   "source": [
    "import numpy as np\n",
    "\n",
    "# create (edit) a numpy array\n",
    "result1d = np.array([1, 3, 5, 7, 2, 4, 6, 8])\n",
    "\n",
    "# reshape the array to 2D\n",
    "result2d = result1d.reshape(2,4)\n",
    "print(\"result1d :\", result1d)\n",
    "print(\"result2d :\")\n",
    "for row in result2d:\n",
    "    print(row)\n",
    "\n",
    "# Space\n",
    "print()\n",
    "\n",
    "# reshape the array to 3D\n",
    "result3d = result2d.reshape(2, 2, 2)\n",
    "print(\"result3d :\")\n",
    "for matrix in result3d:\n",
    "    print(matrix)\n",
    "\n",
    "# Space\n",
    "print()\n",
    "\n",
    "# flatten en array to 1D\n",
    "\n",
    "\n",
    "\n"
   ]
  }
 ],
 "metadata": {
  "kernelspec": {
   "display_name": "Python 3",
   "language": "python",
   "name": "python3"
  },
  "language_info": {
   "codemirror_mode": {
    "name": "ipython",
    "version": 3
   },
   "file_extension": ".py",
   "mimetype": "text/x-python",
   "name": "python",
   "nbconvert_exporter": "python",
   "pygments_lexer": "ipython3",
   "version": "3.13.3"
  }
 },
 "nbformat": 4,
 "nbformat_minor": 5
}
