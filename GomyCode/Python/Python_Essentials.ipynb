{
  "cells": [
    {
      "cell_type": "markdown",
      "id": "a77de5c9",
      "metadata": {
        "id": "a77de5c9"
      },
      "source": [
        "# 👩‍💻 Welcome to the Python Fundamentals Practice Notebook!\n",
        "\n",
        "In this session, we’ll reinforce everything you’ve learned so far on the platform and introduce a few essential topics you’ll need as a Pythonista.\n",
        "\n",
        "## ✅ What You'll Learn Today:\n",
        "\n",
        "- Python syntax and core concepts\n",
        "- Variables, constants, operators, and data types\n",
        "- Strings, booleans, and type conversion\n",
        "- Conditional statements: if, elif, else\n",
        "- Loops: for & while\n",
        "- Python modules: random as an example\n",
        "- 🆕 **Essential missing pieces:**\n",
        "  - Lists, Tuples, Sets, and Dictionaries (Data Structures)\n",
        "  - Functions\n",
        "  - Intro to Object-Oriented Programming (OOP)\n",
        "\n",
        "> 🎯 This session uses **active learning**, so you’ll be solving small tasks and challenges along the way. Make sure to code along, test ideas, and ask questions!\n",
        "\n",
        "Ready? Let’s dive in 👇"
      ]
    },
    {
      "cell_type": "markdown",
      "id": "63bf7040",
      "metadata": {
        "id": "63bf7040"
      },
      "source": [
        "## 🧱 Python Syntax, Variables & Constants\n",
        "\n",
        "Python is known for its clean and readable syntax. You don’t need semicolons, and indentation matters!\n",
        "\n",
        "Let’s explore how to create and reassign variables."
      ]
    },
    {
      "cell_type": "code",
      "execution_count": null,
      "id": "25752cdb",
      "metadata": {
        "id": "25752cdb"
      },
      "outputs": [],
      "source": [
        "# Variable assignment\n",
        "name = \"Alice\"\n",
        "age = 25\n",
        "height = 1.70\n",
        "\n",
        "# Reassigning a variable\n",
        "age = age + 1\n",
        "\n",
        "# Constants (Python doesn't have real constants, but naming in ALL CAPS is a convention)\n",
        "PI = 3.14159\n",
        "\n",
        "print(name, age, height)\n",
        "print(\"Value of PI:\", PI)"
      ]
    },
    {
      "cell_type": "markdown",
      "id": "6a2d6186",
      "metadata": {
        "id": "6a2d6186"
      },
      "source": [
        "A variable can have a short name (like x and y) or a more descriptive name (age, carname, total_volume).\n",
        "Rules for Python variables:\n",
        "* A variable name must start with a letter or the underscore character\n",
        "* A variable name cannot start with a number\n",
        "* A variable name can only contain alpha-numeric characters and underscores (A-z, 0-9, and _ )\n",
        "* Variable names are case-sensitive (age, Age and AGE are three different variables)\n",
        "* A variable name cannot be any of the Python keywords."
      ]
    },
    {
      "cell_type": "code",
      "execution_count": null,
      "id": "6cb638df",
      "metadata": {
        "id": "6cb638df"
      },
      "outputs": [],
      "source": [
        "# acceptable ways of writing variables are\n",
        "myvar = \"AI\"\n",
        "my_var = \"AI\"\n",
        "_my_var = \"AI\"\n",
        "# for strings you can also use ' ' instead of \" \"\n",
        "myVar = 'AI'\n",
        "MYVAR = 'AI'\n",
        "myvar2 = 'AI'\n",
        "# Python variables are also case sensitive\n",
        "a = 15\n",
        "A = \"fifteen\"\n",
        "# the value for A won't replace the value for a\n",
        "print(type(a), a)\n",
        "print(type(A),A)"
      ]
    },
    {
      "cell_type": "markdown",
      "id": "e77f573b",
      "metadata": {
        "id": "e77f573b"
      },
      "source": [
        "### 🔍 Multi-line Statements in Python\n",
        "\n",
        "Sometimes, when your statement is too long, you can split it into multiple lines using:\n",
        "\n",
        "- A **backslash (`\\`)**\n",
        "- Or **parentheses `()`**\n",
        "\n",
        "Both are functionally the same — pick what feels clearer.\n",
        "\n",
        "💡 **Commenting a block of code** in Jupyter Notebook:\n",
        "\n",
        "- Windows/Linux: `Ctrl + /`\n",
        "- Mac: `Cmd + /`\n",
        "- (Alternative) JupyterLab: `Alt + Shift + A` (multi-line block comment)\n",
        "\n",
        "Let’s test this!"
      ]
    },
    {
      "cell_type": "code",
      "execution_count": null,
      "id": "e40c9447",
      "metadata": {
        "id": "e40c9447"
      },
      "outputs": [],
      "source": [
        "# Multi-line using backslash \\\n",
        "A = 5 + 10 + \\\n",
        "    15 + 20 + \\\n",
        "    25\n",
        "\n",
        "# Multi-line using parentheses ()\n",
        "# A = (5 + 10 +\n",
        "#      15 + 20 +\n",
        "#      25)\n",
        "\n",
        "print(A)"
      ]
    },
    {
      "cell_type": "markdown",
      "id": "63fcc343",
      "metadata": {
        "id": "63fcc343"
      },
      "source": [
        "## 📦 Working with Variables in Python\n",
        "\n",
        "Python handles variable creation and memory allocation **dynamically** — no need to declare types beforehand. Here are some key things you can do with variables:"
      ]
    },
    {
      "cell_type": "code",
      "execution_count": null,
      "id": "0a8d6447",
      "metadata": {
        "id": "0a8d6447"
      },
      "outputs": [],
      "source": [
        "# 1. Assigning a value to a variable\n",
        "x = 10\n",
        "print(x)\n",
        "\n",
        "# 2. Reassigning a value to a variable (to a different data type)\n",
        "x = \"Welcome to Python world\"\n",
        "print(x)\n",
        "\n",
        "# 3. Assigning multiple values to multiple variables\n",
        "a, b, c = 5, 3.2, \"Hello\"\n",
        "# or you can use the following syntax:\n",
        "a = 5; b = 3.2 ; c = \"Hello\"\n",
        "\n",
        "print(a)\n",
        "print(b)\n",
        "print(c)\n",
        "\n",
        "# 4. Assigning the same value to multiple variables\n",
        "x = y = z = \"same\"\n",
        "print(x)\n",
        "print(y)\n",
        "print(z)\n",
        "\n",
        "# 5. Checking the type of a variable\n",
        "x = 5\n",
        "print(type(x))\n"
      ]
    },
    {
      "cell_type": "markdown",
      "id": "7b73f11c",
      "metadata": {
        "id": "7b73f11c"
      },
      "source": [
        "### 🎤 Getting Input from the User\n",
        "\n",
        "You can use the `input()` function to get data from the user via the keyboard. It always returns the input as a **string**, so you'll need to convert it if you're expecting numbers (more on that later).\n"
      ]
    },
    {
      "cell_type": "code",
      "execution_count": null,
      "id": "8d86e0bd",
      "metadata": {
        "id": "8d86e0bd"
      },
      "outputs": [],
      "source": [
        "# Getting input from the user\n",
        "name = input(\"Enter your name: \")\n",
        "age = input(\"Enter your age: \")\n",
        "\n",
        "# Converting age from string to int\n",
        "#age = int(age)\n",
        "\n",
        "print(\"Hello\", name + \"!\")\n",
        "print(\"You are\", age, \"years old.\")"
      ]
    },
    {
      "cell_type": "markdown",
      "id": "313e4fcf",
      "metadata": {
        "id": "313e4fcf"
      },
      "source": [
        "## 🧠 Activity 1 – Variables & Input\n",
        "\n",
        "Let's test what you’ve just learned!\n",
        "\n",
        "🔧 Your Task:\n",
        "\n",
        "1. Create a variable `my_name` and assign your name to it.\n",
        "2. Create a variable `my_age` and assign your age to it.\n",
        "3. Print a greeting like:  \n",
        "   `\"Hello, my name is X and I am Y years old.\"`\n",
        "4. Reassign `my_age` to a new value (for example: `my_age = my_age + 1`) and print your new age.\n",
        "5. Use `input()` to ask the user for their favorite color and store it in a variable.\n",
        "6. Print a sentence using all three variables (`my_name`, `my_age`, and the favorite color).\n",
        "\n",
        "✅ Example output:\n",
        "Hello, my name is Mohamed and I am 30 years old. Next year, I will be 31. Your favorite color is blue? Nice choice!"
      ]
    },
    {
      "cell_type": "markdown",
      "id": "1e07107c",
      "metadata": {
        "id": "1e07107c"
      },
      "source": [
        "### Your Response:"
      ]
    },
    {
      "cell_type": "code",
      "execution_count": null,
      "id": "8769c8c1",
      "metadata": {
        "id": "8769c8c1"
      },
      "outputs": [],
      "source": []
    },
    {
      "cell_type": "markdown",
      "id": "5fc75028",
      "metadata": {
        "id": "5fc75028"
      },
      "source": [
        "## ➕ Arithmetic Operators\n",
        "\n",
        "Arithmetic operators are used to perform basic mathematical operations.\n",
        "\n",
        "| Symbol | Name             | Example     | Result  |\n",
        "|--------|------------------|-------------|---------|\n",
        "| +      | Addition          | x + y       | 11      |\n",
        "| -      | Subtraction       | x - y       | 5       |\n",
        "| *      | Multiplication    | x * y       | 24      |\n",
        "| /      | Division          | x / y       | 2.66    |\n",
        "| %      | Modulus (remainder) | x % y     | 2       |\n",
        "| **     | Exponentiation    | x ** y      | 512     |\n",
        "| //     | Floor division    | x // y      | 2       |\n"
      ]
    },
    {
      "cell_type": "code",
      "execution_count": null,
      "id": "caa13d97",
      "metadata": {
        "id": "caa13d97"
      },
      "outputs": [],
      "source": [
        "x = 8\n",
        "y = 3\n",
        "\n",
        "print(\"Addition:\", x + y)\n",
        "print(\"Subtraction:\", x - y)\n",
        "print(\"Multiplication:\", x * y)\n",
        "print(\"Division:\", x / y)\n",
        "print(\"Modulus:\", x % y)\n",
        "print(\"Exponentiation:\", x ** y)\n",
        "print(\"Floor Division:\", x // y)\n"
      ]
    },
    {
      "cell_type": "markdown",
      "id": "223332a9",
      "metadata": {
        "id": "223332a9"
      },
      "source": [
        "## ⚖️ Comparison Operators\n",
        "\n",
        "Comparison operators return a Boolean value (`True` or `False`) based on comparing two values.\n",
        "\n",
        "| Operator | Name                        | Example     | Result                                     |\n",
        "|----------|-----------------------------|-------------|--------------------------------------------|\n",
        "| ==       | Equal to                    | x == y      | True if x is equal to y, else False        |\n",
        "| !=       | Not equal to                | x != y      | True if x is not equal to y, else False    |\n",
        "| >        | Greater than                | x > y       | True if x is greater than y                |\n",
        "| <        | Less than                   | x < y       | True if x is less than y                   |\n",
        "| >=       | Greater than or equal to    | x >= y      | True if x is greater than or equal to y    |\n",
        "| <=       | Less than or equal to       | x <= y      | True if x is less than or equal to y       |\n"
      ]
    },
    {
      "cell_type": "code",
      "execution_count": null,
      "id": "ed61725a",
      "metadata": {
        "id": "ed61725a"
      },
      "outputs": [],
      "source": [
        "x = 8\n",
        "y = 3\n",
        "\n",
        "print(\"x == y:\", x == y)\n",
        "print(\"x != y:\", x != y)\n",
        "print(\"x > y:\", x > y)\n",
        "print(\"x < y:\", x < y)\n",
        "print(\"x >= y:\", x >= y)\n",
        "print(\"x <= y:\", x <= y)"
      ]
    },
    {
      "cell_type": "markdown",
      "id": "4fd2dc7a",
      "metadata": {
        "id": "4fd2dc7a"
      },
      "source": [
        "## 🔗 Logical Operators\n",
        "\n",
        "Logical operators are used to combine conditional statements.\n",
        "\n",
        "| Operator | Description                                         | Example                   | Result |\n",
        "|----------|-----------------------------------------------------|---------------------------|--------|\n",
        "| and      | Returns True if both statements are true            | x < 5 and x < 10          | False  |\n",
        "| or       | Returns True if at least one statement is true      | x < 5 or x < 10           | True   |\n",
        "| not      | Reverses the result (True becomes False and vice versa) | not(x < 5 and x < 10) | True   |\n"
      ]
    },
    {
      "cell_type": "code",
      "execution_count": null,
      "id": "637cf72c",
      "metadata": {
        "id": "637cf72c"
      },
      "outputs": [],
      "source": [
        "x = 8\n",
        "\n",
        "print(\"x < 5 and x < 10:\", x < 5 and x < 10)\n",
        "print(\"x < 5 or x < 10:\", x < 5 or x < 10)\n",
        "print(\"not (x < 5 and x < 10):\", not (x < 5 and x < 10))\n"
      ]
    },
    {
      "cell_type": "markdown",
      "id": "0f7453a1",
      "metadata": {
        "id": "0f7453a1"
      },
      "source": [
        "## 🔍 Membership Operators\n",
        "\n",
        "Membership operators check if a value exists within a sequence (like a list or string).\n",
        "\n",
        "| Operator | Example         | Description                                   |\n",
        "|----------|-----------------|-----------------------------------------------|\n",
        "| in       | x in [1, 2, 3]  | Returns True if x is present in the sequence  |\n",
        "| not in   | x not in [1, 2, 3] | Returns True if x is NOT present in sequence |\n"
      ]
    },
    {
      "cell_type": "code",
      "execution_count": null,
      "id": "1940b61c",
      "metadata": {
        "id": "1940b61c"
      },
      "outputs": [],
      "source": [
        "x = \"G\"\n",
        "greetings = \"Good Morning\"\n",
        "\n",
        "print(\"x in my_list:\", x in greetings)\n",
        "print(\"x not in my_list:\", x not in greetings)"
      ]
    },
    {
      "cell_type": "markdown",
      "id": "5bae1143",
      "metadata": {
        "id": "5bae1143"
      },
      "source": [
        "## 🧵 What is a Python String?\n",
        "\n",
        "A **string** in Python is a sequence of characters enclosed in:\n",
        "- Single quotes `'...'`\n",
        "- Double quotes `\"...\"`\n",
        "- Triple quotes `'''...'''` or `\"\"\"...\"\"\"`\n",
        "\n",
        "Strings are used to represent **textual data** and are **immutable**, meaning their content **cannot be changed** after creation."
      ]
    },
    {
      "cell_type": "code",
      "execution_count": null,
      "id": "577d5863",
      "metadata": {
        "id": "577d5863"
      },
      "outputs": [],
      "source": [
        "my_string = \"Welcome to Python\"\n",
        "print(my_string)"
      ]
    },
    {
      "cell_type": "markdown",
      "id": "58fdfbe9",
      "metadata": {
        "id": "58fdfbe9"
      },
      "source": [
        "### 🔢 Accessing Characters in a String\n",
        "\n",
        "You can access individual characters using **indexing**:\n",
        "- Index starts at `0` for the first character.\n",
        "- Use `-1` to access the last character.\n",
        "\n",
        "| Expression         | Description         | Output      |\n",
        "|--------------------|---------------------|-------------|\n",
        "| `my_string[0]`     | First character     | `W`         |\n",
        "| `my_string[-1]`    | Last character      | `n`         |\n",
        "\n",
        "> ⚠️ Index must be within the valid range or you'll get an error."
      ]
    },
    {
      "cell_type": "code",
      "execution_count": null,
      "id": "f8e6eb9d",
      "metadata": {
        "id": "f8e6eb9d"
      },
      "outputs": [],
      "source": [
        "print(\"my_string[0] =\", my_string[0])   # First character\n",
        "print(\"my_string[-1] =\", my_string[-1]) # Last character"
      ]
    },
    {
      "cell_type": "markdown",
      "id": "ab0572ae",
      "metadata": {
        "id": "ab0572ae"
      },
      "source": [
        "### ✂️ Slicing Strings\n",
        "\n",
        "You can extract substrings using slicing syntax: `string[start:end]`\n",
        "\n",
        "- `start`: Starting index (inclusive)\n",
        "- `end`: Ending index (exclusive)\n",
        "\n",
        "| Expression             | Description                    | Output           |\n",
        "|------------------------|--------------------------------|------------------|\n",
        "| `my_string[1:5]`        | From index 1 to 4              | `elco`           |\n",
        "| `my_string[5:-2]`       | From index 5 to 2nd last       | `me to Pyth`     |\n",
        "| `my_string[:7]`         | From start to index 6          | `Welcome`        |\n",
        "| `my_string[11:]`        | From index 11 to end           | `Python`         |\n"
      ]
    },
    {
      "cell_type": "code",
      "execution_count": null,
      "id": "cb068bff",
      "metadata": {
        "id": "cb068bff"
      },
      "outputs": [],
      "source": [
        "print(\"my_string[1:5] =\", my_string[1:5])\n",
        "print(\"my_string[5:-2] =\", my_string[5:-2])\n",
        "print(\"my_string[:7] =\", my_string[:7])\n",
        "print(\"my_string[11:] =\", my_string[11:])"
      ]
    },
    {
      "cell_type": "markdown",
      "id": "422c9110",
      "metadata": {
        "id": "422c9110"
      },
      "source": [
        "### ➕ Concatenating Strings\n",
        "\n",
        "Use the `+` operator to join strings. This creates a **new string** and does not change the originals.\n",
        "\n",
        "| Expression                | Output                         |\n",
        "|---------------------------|--------------------------------|\n",
        "| `str1 + str2`             | `Welcome to coding world!`     |\n"
      ]
    },
    {
      "cell_type": "code",
      "execution_count": null,
      "id": "5289eec1",
      "metadata": {
        "id": "5289eec1"
      },
      "outputs": [],
      "source": [
        "str1 = \"Welcome to \"\n",
        "str2 = \"coding world!\"\n",
        "result = str1 + str2\n",
        "print(\"str1 + str2 =\", result)"
      ]
    },
    {
      "cell_type": "markdown",
      "id": "de0af54e",
      "metadata": {
        "id": "de0af54e"
      },
      "source": [
        "## 🔄 Type Conversions in Python\n",
        "\n",
        "Type conversion allows you to convert variables from one data type to another.  \n",
        "Here's a summary of allowed conversions:\n",
        "\n",
        "| Source Type | Destination Type | Notes                         |\n",
        "|-------------|------------------|-------------------------------|\n",
        "| `int`       | `float`, `str`   | Safe conversions              |\n",
        "| `float`     | `int`, `str`     | `int()` removes decimals      |\n",
        "| `str`       | `int`, `float`   | Only if the string is numeric |\n",
        "| `bool`      | `int`, `str`     | `True` → `1`, `False` → `0`   |\n",
        "\n",
        "Use built-in functions: `int()`, `float()`, `str()`, `bool()` for conversion.\n"
      ]
    },
    {
      "cell_type": "code",
      "execution_count": null,
      "id": "92a53bf6",
      "metadata": {
        "id": "92a53bf6"
      },
      "outputs": [],
      "source": [
        "# Conversions\n",
        "x = 10\n",
        "print(\"int to float:\", float(x))\n",
        "print(\"int to str:\", str(x))\n",
        "\n",
        "y = \"45\"\n",
        "print(\"str to int:\", int(y))\n",
        "print(\"str to float:\", float(y))\n",
        "\n",
        "f = 9.8\n",
        "print(\"float to int:\", int(f))  # decimal is removed\n",
        "\n",
        "b = True\n",
        "print(\"bool to int:\", int(b))   # True = 1\n",
        "print(\"bool to str:\", str(b))   # \"True\""
      ]
    },
    {
      "cell_type": "markdown",
      "id": "1f4c6251",
      "metadata": {
        "id": "1f4c6251"
      },
      "source": [
        "## ⚖️ Conditional Statements\n",
        "\n",
        "Python uses `if`, `if-else`, and `if-elif-else` to execute code blocks based on conditions.\n",
        "\n",
        "### ✔️ When to use what?\n",
        "\n",
        "| Statement      | Use case                                                  |\n",
        "|----------------|-----------------------------------------------------------|\n",
        "| `if`           | When there's only **one condition** to check              |\n",
        "| `if-else`      | When you need an **either-or** logic                      |\n",
        "| `if-elif-else` | When you have **multiple options** or ranges to evaluate  |\n",
        "\n",
        "### 📌 Indentation is important!\n",
        "- Use **Tab** to indent blocks inside conditions\n",
        "- Use **Shift + Tab** to un-indent selected lines\n"
      ]
    },
    {
      "cell_type": "code",
      "execution_count": null,
      "id": "58a55977",
      "metadata": {
        "id": "58a55977"
      },
      "outputs": [],
      "source": [
        "# if\n",
        "x = 7\n",
        "if x > 5:\n",
        "    print(\"x is greater than 5\")\n",
        "\n",
        "# if-else\n",
        "if x % 2 == 0:\n",
        "    print(\"Even number\")\n",
        "else:\n",
        "    print(\"Odd number\")\n",
        "\n",
        "# if-elif-else\n",
        "grade = 85\n",
        "if grade >= 90:\n",
        "    print(\"Grade: A\")\n",
        "elif grade >= 80:\n",
        "    print(\"Grade: B\")\n",
        "elif grade >= 70:\n",
        "    print(\"Grade: C\")\n",
        "else:\n",
        "    print(\"Grade: F\")\n"
      ]
    },
    {
      "cell_type": "markdown",
      "id": "30da6de1",
      "metadata": {
        "id": "30da6de1"
      },
      "source": [
        "## 🔁 For Loops\n",
        "\n",
        "Use `for` loops when you **know in advance** how many times to repeat.\n",
        "\n",
        "### 📦 `range()` Function\n",
        "\n",
        "`range(start, stop, step)` is commonly used with `for` loops:\n",
        "\n",
        "- `range(5)` → 0, 1, 2, 3, 4\n",
        "- `range(1, 6)` → 1 to 5\n",
        "- `range(2, 10, 2)` → Even numbers between 2 and 10"
      ]
    },
    {
      "cell_type": "code",
      "execution_count": null,
      "id": "38fd529c",
      "metadata": {
        "id": "38fd529c"
      },
      "outputs": [],
      "source": [
        "# Simple loop\n",
        "for i in range(5):\n",
        "    print(\"i =\", i)\n",
        "\n",
        "# Loop from 1 to 5\n",
        "for i in range(1, 6):\n",
        "    print(\"Number:\", i)\n",
        "\n",
        "# Even numbers\n",
        "for i in range(2, 10, 2):\n",
        "    print(\"Even:\", i)"
      ]
    },
    {
      "cell_type": "markdown",
      "id": "a8d10a5b",
      "metadata": {
        "id": "a8d10a5b"
      },
      "source": [
        "## 🔄 While Loops\n",
        "\n",
        "Use `while` loops when the **number of iterations is unknown**, and you loop **based on a condition**.\n",
        "\n",
        "### 🧪 Common uses:\n",
        "- Repeating until a condition becomes False\n",
        "- Loops with user input\n",
        "- Infinite loops with a `break` condition\n"
      ]
    },
    {
      "cell_type": "code",
      "execution_count": null,
      "id": "b2e2eda5",
      "metadata": {
        "id": "b2e2eda5"
      },
      "outputs": [],
      "source": [
        "# Basic while loop\n",
        "x = 1\n",
        "while x <= 5:\n",
        "    print(\"x =\", x)\n",
        "    x += 1\n",
        "\n",
        "# Conditional while loop\n",
        "a = 0\n",
        "while a < 10:\n",
        "    print(\"a =\", a)\n",
        "    a += 2\n",
        "\n",
        "# Loop with break\n",
        "counter = 0\n",
        "while True:\n",
        "    print(\"Counter =\", counter)\n",
        "    counter += 1\n",
        "    if counter == 3:\n",
        "        break\n"
      ]
    },
    {
      "cell_type": "markdown",
      "id": "f0faa297",
      "metadata": {
        "id": "f0faa297"
      },
      "source": [
        "## 📦 Modules in Python\n",
        "\n",
        "A **module** is a file containing Python definitions and functions. You can **import modules** to reuse existing functionality.\n",
        "\n",
        "Common modules: `math`, `random`, `datetime`, `os`, etc.\n",
        "\n",
        "### 🎲 The `random` Module\n",
        "\n",
        "Use this module to generate random values:\n",
        "- `random.randint(a, b)` → Random integer between a and b\n",
        "- `random.random()` → Random float between 0 and 1\n"
      ]
    },
    {
      "cell_type": "code",
      "execution_count": null,
      "id": "c03f42c4",
      "metadata": {
        "id": "c03f42c4"
      },
      "outputs": [],
      "source": [
        "import random\n",
        "\n",
        "# Random integer between 1 and 10\n",
        "rand_int = random.randint(1, 10)\n",
        "print(\"Random Integer:\", rand_int)\n",
        "\n",
        "# Random float between 0 and 1\n",
        "rand_float = random.random()\n",
        "print(\"Random Float:\", rand_float)\n",
        "\n",
        "# Random float between 1 and 10\n",
        "rand_float_range = random.uniform(1, 10)\n",
        "print(\"Random Float (1 to 10):\", rand_float_range)\n"
      ]
    },
    {
      "cell_type": "markdown",
      "id": "1462e6a7",
      "metadata": {
        "id": "1462e6a7"
      },
      "source": [
        "## 🎲 Activity 2: Simulate a Coin Flip using the `random` module\n",
        "\n",
        "### Step 1️⃣: Coin Flip (Pile ou Face)\n",
        "Use the `random` module to generate either 0 or 1 randomly to simulate a coin flip.\n",
        "\n",
        "- If it's `0`, the result is **Tails** (**Pile** in French)\n",
        "- If it's `1`, the result is **Heads** (**Face** in French)\n",
        "\n",
        "### Step 2️⃣: 10 Simulated Throws\n",
        "Use a loop to simulate 10 throws. Display the throw number and the result (Tails or Heads).\n",
        "\n",
        "### Step 3️⃣: 100 Throws Until You Get Heads\n",
        "Simulate up to 100 throws. Stop the loop once you get **Heads** (Face) and display on which throw it happened."
      ]
    },
    {
      "cell_type": "markdown",
      "id": "d15845be",
      "metadata": {
        "id": "d15845be"
      },
      "source": [
        "### Your Response:"
      ]
    },
    {
      "cell_type": "code",
      "execution_count": null,
      "id": "ceeec21d",
      "metadata": {
        "id": "ceeec21d"
      },
      "outputs": [],
      "source": []
    },
    {
      "cell_type": "markdown",
      "id": "22fab92a",
      "metadata": {
        "id": "22fab92a"
      },
      "source": [
        "## 📦 Python Data Structures\n",
        "\n",
        "Python provides several built-in data structures. Here's a quick comparison:\n",
        "\n",
        "| Structure    | Mutable | Ordered | Indexed | Allows Duplicates |\n",
        "|--------------|---------|---------|---------|-------------------|\n",
        "| **List**     | ✅ Yes  | ✅ Yes  | ✅ Yes  | ✅ Yes            |\n",
        "| **Tuple**    | ❌ No   | ✅ Yes  | ✅ Yes  | ✅ Yes            |\n",
        "| **Set**      | ✅ Yes  | ❌ No   | ❌ No   | ❌ No             |\n",
        "| **Dictionary**| ✅ Yes | ✅ Yes  | ✅ Keys | ✅ Keys must be unique |\n"
      ]
    },
    {
      "cell_type": "code",
      "execution_count": null,
      "id": "a0b05fcd",
      "metadata": {
        "id": "a0b05fcd"
      },
      "outputs": [],
      "source": [
        "# List\n",
        "fruits = [\"apple\", \"banana\", \"apple\"]\n",
        "print(\"List:\", fruits)\n",
        "\n",
        "# Tuple\n",
        "colors = (\"red\", \"green\", \"blue\")\n",
        "print(\"Tuple:\", colors)\n",
        "\n",
        "# Set\n",
        "unique_numbers = {1, 2, 2, 3}\n",
        "print(\"Set:\", unique_numbers)  # Duplicates removed\n",
        "\n",
        "# Dictionary\n",
        "person = {\"name\": \"Alice\", \"age\": 25, \"job\": \"Developer\"}\n",
        "print(\"Dictionary:\", person)\n"
      ]
    },
    {
      "cell_type": "markdown",
      "id": "19ecb25b",
      "metadata": {
        "id": "19ecb25b"
      },
      "source": [
        "### List Operations"
      ]
    },
    {
      "cell_type": "code",
      "execution_count": null,
      "id": "5aa514e9",
      "metadata": {
        "id": "5aa514e9"
      },
      "outputs": [],
      "source": [
        "# add a new item at the end of the list\n",
        "fruits.append(\"orange\")\n",
        "print(\"After append:\", fruits)\n",
        "# list removes the first occurrence of the value\n",
        "fruits.remove(\"apple\")\n",
        "print(\"After remove:\", fruits)\n",
        "# insert at index (1)\n",
        "fruits.insert(1, \"kiwi\")\n",
        "print(\"After insert:\", fruits)\n",
        "# sort the list\n",
        "fruits.sort()\n",
        "print(\"After sort:\", fruits)\n",
        "# remove with index (1)\n",
        "fruits.pop(1)\n",
        "print(\"After pop:\", fruits)"
      ]
    },
    {
      "cell_type": "markdown",
      "id": "qy1m4xdlPb2R",
      "metadata": {
        "id": "qy1m4xdlPb2R"
      },
      "source": [
        "### 📚 List Methods Summary\n",
        "\n",
        "| **Method**              | **Description**                                                                 |\n",
        "|-------------------------|---------------------------------------------------------------------------------|\n",
        "| `.append(item)`         | Adds `item` to the end of the list                                              |\n",
        "| `.remove(item)`         | Removes the **first occurrence** of `item` from the list                        |\n",
        "| `.insert(index, item)`  | Inserts `item` at the specified `index`                                         |\n",
        "| `.sort()`               | Sorts the list in ascending order (modifies the list in place)                  |\n",
        "| `.pop(index)`           | Removes and returns the item at the specified `index` (default is last item)    |\n"
      ]
    },
    {
      "cell_type": "markdown",
      "id": "u9m8KqY1NmKT",
      "metadata": {
        "id": "u9m8KqY1NmKT"
      },
      "source": [
        "### Dictionary Operations"
      ]
    },
    {
      "cell_type": "code",
      "execution_count": null,
      "id": "jroZZbypNrlX",
      "metadata": {
        "id": "jroZZbypNrlX"
      },
      "outputs": [],
      "source": [
        "# Create a dictionary\n",
        "country_capitals = {\n",
        "    \"Germany\": \"Berlin\",\n",
        "    \"Canada\": \"Ottawa\",\n",
        "    \"England\": \"London\"\n",
        "}\n",
        "print(\"Initial Dictionary:\", country_capitals)\n",
        "\n",
        "# Access items\n",
        "print(\"Capital of Germany:\", country_capitals[\"Germany\"])\n",
        "print(\"Capital of England (using get):\", country_capitals.get(\"England\"))\n",
        "\n",
        "# Add or update items\n",
        "country_capitals[\"Italy\"] = \"Rome\"  # Add\n",
        "country_capitals.update({\"Canada\": \"Toronto\"})  # Update\n",
        "print(\"After add/update:\", country_capitals)\n",
        "\n",
        "# Delete items\n",
        "del country_capitals[\"Germany\"]  # Delete by key\n",
        "print(\"After deleting Germany:\", country_capitals)\n",
        "\n",
        "removed = country_capitals.pop(\"Italy\")  # Remove and return value\n",
        "print(\"Removed:\", removed)\n",
        "\n",
        "last_removed = country_capitals.popitem()  # Remove last inserted item\n",
        "print(\"Last item removed:\", last_removed)\n",
        "\n",
        "# Clear all items\n",
        "copy_dict = country_capitals.copy()  # Make a copy\n",
        "country_capitals.clear()\n",
        "print(\"After clearing:\", country_capitals)\n",
        "print(\"Copied dictionary (unchanged):\", copy_dict)\n",
        "\n",
        "# Check membership\n",
        "file_types = {\".txt\": \"Text File\", \".pdf\": \"PDF Document\"}\n",
        "print(\".pdf in file_types:\", \".pdf\" in file_types)\n",
        "print(\".mp3 not in file_types:\", \".mp3\" not in file_types)\n",
        "\n",
        "# Iterate through dictionary\n",
        "for key in copy_dict:\n",
        "    print(\"Key:\", key, \"| Value:\", copy_dict[key])\n",
        "\n",
        "# Dictionary methods\n",
        "print(\"Keys:\", copy_dict.keys())      # Get all keys\n",
        "print(\"Values:\", copy_dict.values())  # Get all values\n",
        "print(\"Items:\", copy_dict.items())    # Get all (key, value) pairs\n",
        "\n",
        "# Length of dictionary\n",
        "print(\"Length:\", len(copy_dict))\n",
        "\n",
        "# Get method\n",
        "print(country_capitals.get('Algeria','Algeirs')) # Returns the value of the key Algeria, if it doesn't exist it returns a deafult value (Algeirs)"
      ]
    },
    {
      "cell_type": "markdown",
      "id": "JOSihXBkPY2Z",
      "metadata": {
        "id": "JOSihXBkPY2Z"
      },
      "source": [
        "### 📚 Dictionary Methods Summary\n",
        "\n",
        "| **Method**       | **Description**                                                        |\n",
        "|------------------|------------------------------------------------------------------------|\n",
        "| `.get(key, deafult)`      | Returns the value for `key` if key is in the dictionary else `deafult`               |\n",
        "| `.pop(key)`      | Removes specified key and returns its value                            |\n",
        "| `.popitem()`     | Removes and returns the last inserted `(key, value)` pair              |\n",
        "| `.update()`      | Updates dictionary with elements from another dictionary or iterable   |\n",
        "| `.clear()`       | Removes all elements from the dictionary                               |\n",
        "| `.copy()`        | Returns a shallow copy of the dictionary                               |\n",
        "| `.keys()`        | Returns a view object containing all the keys                          |\n",
        "| `.values()`      | Returns a view object containing all the values                        |\n",
        "| `.items()`       | Returns a view object containing all `(key, value)` pairs              |\n"
      ]
    },
    {
      "cell_type": "markdown",
      "id": "7KTB3EWNPkJz",
      "metadata": {
        "id": "7KTB3EWNPkJz"
      },
      "source": [
        "# Sets Operations"
      ]
    },
    {
      "cell_type": "code",
      "execution_count": null,
      "id": "Fw-hxAOqQIhC",
      "metadata": {
        "id": "Fw-hxAOqQIhC"
      },
      "outputs": [],
      "source": [
        "# Creating Sets\n",
        "\n",
        "# 1. Set of integers\n",
        "student_id = {112, 114, 116, 118, 115}\n",
        "print(\"Student ID:\", student_id)\n",
        "\n",
        "# 2. Set of strings\n",
        "vowel_letters = {'a', 'e', 'i', 'o', 'u'}\n",
        "print(\"Vowel Letters:\", vowel_letters)\n",
        "\n",
        "# 3. Set of mixed data types\n",
        "mixed_set = {'Hello', 101, -2, 'Bye'}\n",
        "print(\"Set of mixed data types:\", mixed_set)\n",
        "\n",
        "# Sets Automatically Remove Duplicates\n",
        "numbers = {2, 4, 6, 6, 2, 8}\n",
        "print(\"No duplicates allowed:\", numbers)\n",
        "\n",
        "# Add Items with add()\n",
        "numbers = {21, 34, 54, 12}\n",
        "print(\"Original Set:\", numbers)\n",
        "numbers.add(32)\n",
        "print(\"After add(32):\", numbers)\n",
        "\n",
        "# Update Set with Another Collection (list, set, tuple)\n",
        "companies = {'Lacoste', 'Ralph Lauren'}\n",
        "tech_companies = ['apple', 'google', 'apple']\n",
        "companies.update(tech_companies)\n",
        "print(\"After update():\", companies)\n",
        "\n",
        "# Set Built-in Functions and Operations\n",
        "\n",
        "values = {10, 20, 30, 40, 50}\n",
        "\n",
        "print(\"all():\", all(values))                # True if all values are truthy\n",
        "print(\"any():\", any(values))                # True if any value is truthy\n",
        "print(\"enumerate():\", list(enumerate(values)))  # List of (index, value) pairs\n",
        "print(\"len():\", len(values))                # Number of elements\n",
        "print(\"max():\", max(values))                # Maximum value\n",
        "print(\"min():\", min(values))                # Minimum value\n",
        "print(\"sorted():\", sorted(values))          # Sorted version of set (as list)\n",
        "print(\"sum():\", sum(values))                # Sum of elements\n"
      ]
    },
    {
      "cell_type": "markdown",
      "id": "UhRaCu5WQ1fq",
      "metadata": {
        "id": "UhRaCu5WQ1fq"
      },
      "source": [
        "### 📚 Set Methods Summary\n",
        "\n",
        "| **Method / Function**     | **Description**                                                                 |\n",
        "|---------------------------|---------------------------------------------------------------------------------|\n",
        "| `.add(elem)`              | Adds an element `elem` to the set                                               |\n",
        "| `.update(iterable)`       | Adds multiple elements from an iterable (like list, set, tuple)                 |\n",
        "| `.remove(elem)`           | Removes `elem` from the set; raises error if not found                          |\n",
        "| `.discard(elem)`          | Removes `elem` if present; does nothing if not found                            |\n",
        "| `.pop()`                  | Removes and returns an arbitrary element                                        |\n",
        "| `.clear()`                | Removes all elements from the set                                               |\n",
        "| `.copy()`                 | Returns a shallow copy of the set                                               |\n",
        "| `len(set)`                | Returns the number of elements in the set                                       |\n",
        "| `max(set)`                | Returns the maximum value in the set                                            |\n",
        "| `min(set)`                | Returns the minimum value in the set                                            |\n",
        "| `sum(set)`                | Returns the sum of all elements in the set                                      |\n",
        "| `sorted(set)`             | Returns a sorted list of the set’s elements                                     |\n",
        "| `all(set)`                | Returns `True` if all elements are truthy                                       |\n",
        "| `any(set)`                | Returns `True` if any element is truthy                                         |\n",
        "| `enumerate(set)`          | Returns an enumerate object (can be converted to list of index-element tuples)  |\n"
      ]
    },
    {
      "cell_type": "markdown",
      "id": "rgmp0C9lRJhO",
      "metadata": {
        "id": "rgmp0C9lRJhO"
      },
      "source": [
        "# Tuples Operations"
      ]
    },
    {
      "cell_type": "code",
      "execution_count": null,
      "id": "m_cB9VfxRYFd",
      "metadata": {
        "id": "m_cB9VfxRYFd"
      },
      "outputs": [],
      "source": [
        "# Creating a tuple\n",
        "numbers = (1, 2, -5)\n",
        "print(\"Numbers Tuple:\", numbers) # Output: (1, 2, -5)\n",
        "\n",
        "\n",
        "# Accessing Tuple Elements by Index\n",
        "languages = ('Python', 'Swift', 'C++')\n",
        "print(\"First language:\", languages[0])   # Output: Python\n",
        "print(\"Third language:\", languages[2])   # Output: C++\n",
        "\n",
        "# Tuples are immutable\n",
        "cars = ('BMW', 'Tesla', 'Ford', 'Toyota')\n",
        "# The following line will raise an error if uncommented\n",
        "# cars[0] = 'Nissan'  # TypeError: 'tuple' object does not support item assignment\n",
        "\n",
        "# Length of a tuple\n",
        "print(\"Total cars:\", len(cars))  # Output: Total cars: 4\n",
        "\n",
        "# Iterating through a tuple\n",
        "fruits = ('apple', 'banana', 'orange')\n",
        "print(\"Fruits in the tuple:\")\n",
        "for fruit in fruits:\n",
        "    print(fruit)"
      ]
    },
    {
      "cell_type": "markdown",
      "id": "0ab82034",
      "metadata": {
        "id": "0ab82034"
      },
      "source": [
        "## 🔧 Functions in Python\n",
        "\n",
        "A **function** is a reusable block of code that performs a specific task.  \n",
        "We use functions to:\n",
        "\n",
        "- Avoid code repetition\n",
        "- Organize programs into logical blocks\n",
        "- Make code easier to maintain and test\n",
        "\n",
        "### 🧠 Syntax:\n",
        "```python\n",
        "def function_name(parameters):\n",
        "    # code block\n",
        "    return result\n"
      ]
    },
    {
      "cell_type": "code",
      "execution_count": null,
      "id": "04bf9b6d",
      "metadata": {
        "id": "04bf9b6d"
      },
      "outputs": [],
      "source": [
        "# function that calculates the arethmetic mean of a list of numbers\n",
        "def calculate_mean(numbers):\n",
        "    return sum(numbers) / len(numbers)\n",
        "\n",
        "scores = [10, 20, 30, 40]\n",
        "average = calculate_mean(scores)\n",
        "print(\"Mean:\", average)"
      ]
    },
    {
      "cell_type": "markdown",
      "id": "UjPVWq7hGJW9",
      "metadata": {
        "id": "UjPVWq7hGJW9"
      },
      "source": [
        "### Lambda Functions\n",
        "\n",
        "Lambda functions in Python are a streamlined type of function defined using the `lambda` keyword instead of the typical `def` keyword. These functions are **anonymous**, meaning they do not have a name.\n",
        "\n",
        "They are ideal for quick, simple tasks that require only a **single expression**.\n",
        "\n",
        "#### Structure of a Lambda Function:\n",
        "\n",
        "- **lambda** keyword\n",
        "- **Parameters** (like in a normal function)\n",
        "- A **single expression** (automatically returned)\n",
        "\n",
        "#### When to Use\n",
        "- Use lambda for short, one-time use functions.\n",
        "- Use def when defining functions with more logic or reuse."
      ]
    },
    {
      "cell_type": "code",
      "execution_count": null,
      "id": "6T3f60gSGgCG",
      "metadata": {
        "id": "6T3f60gSGgCG"
      },
      "outputs": [],
      "source": [
        "# Using lambda function to calculate square\n",
        "square = lambda x: x**2\n",
        "print(square(4))\n",
        "\n",
        "# Lambda with multiple arguments\n",
        "add = lambda a, b: a + b\n",
        "print(add(5, 3))"
      ]
    },
    {
      "cell_type": "markdown",
      "id": "pjL12L61GqU1",
      "metadata": {
        "id": "pjL12L61GqU1"
      },
      "source": [
        "### Map Function\n",
        "\n",
        "The `map()` function applies a function to each item in an iterable (like a list or tuple). It returns a map object, which can be converted to a list.\n",
        "\n",
        "#### Syntax:\n",
        "```python\n",
        "map(function, iterable)\n"
      ]
    },
    {
      "cell_type": "code",
      "execution_count": null,
      "id": "dJZykBnnGwOk",
      "metadata": {
        "id": "dJZykBnnGwOk"
      },
      "outputs": [],
      "source": [
        "def myfunc(a):\n",
        "    return len(a)\n",
        "\n",
        "fruit = ('apple', 'banana', 'cherry')\n",
        "result = map (myfunc,fruit)\n",
        "print(list(result))"
      ]
    },
    {
      "cell_type": "markdown",
      "id": "9c9JX1NIHQ6V",
      "metadata": {
        "id": "9c9JX1NIHQ6V"
      },
      "source": [
        "### Programming Puzzle: Check Common Elements in Two Lists\n",
        "\n",
        "#### Instruction:\n",
        "Write a Python function that takes two lists as parameters and returns `True` if they have **at least one common element**, otherwise returns `False`."
      ]
    },
    {
      "cell_type": "code",
      "execution_count": null,
      "id": "9EMwk2hiHX8E",
      "metadata": {
        "id": "9EMwk2hiHX8E"
      },
      "outputs": [],
      "source": []
    },
    {
      "cell_type": "markdown",
      "id": "LdiVqrf0MGt3",
      "metadata": {
        "id": "LdiVqrf0MGt3"
      },
      "source": [
        "# 🏗️ Introduction to Object-Oriented Programming (OOP)\n",
        "\n",
        "Object-Oriented Programming (OOP) is a programming paradigm that organizes code into reusable **objects**, making it easier to structure, maintain, and scale programs.\n",
        "\n",
        "## ✨ Why do we need OOP?\n",
        "\n",
        "- **Modularity**: Divides a large program into smaller, manageable parts.\n",
        "- **Reusability**: Promotes code reuse using classes and objects.\n",
        "- **Encapsulation**: Protects data by bundling it with related operations.\n",
        "- **Inheritance**: Allows new classes to reuse and extend existing ones.\n",
        "- **Polymorphism**: Enables flexibility by allowing different objects to be used interchangeably.\n",
        "\n",
        "## 📜 Structure of a Class\n",
        "\n",
        "A **class** is a blueprint for creating objects, defining their **attributes** and **methods**.\n",
        "\n",
        "An **object** is an instance of a class.\n",
        "\n",
        "### 🏷️ Attributes (Instance Variables)\n",
        "Attributes hold **characteristics** of an object. They define the **state** of an object.\n"
      ]
    },
    {
      "cell_type": "markdown",
      "id": "76ae5ee2",
      "metadata": {
        "id": "76ae5ee2"
      },
      "source": [
        "###🔧 Methods (Functions inside a Class)\n",
        "Methods define behavior and what an object can do.\n",
        "\n",
        "### 🧩 Special Methods:\n",
        "- `__init__()` → Constructor, runs when you create a new object\n",
        "- `__str__()` → Returns a string representation of the object\n",
        "\n",
        "### 🧐 Understanding self\n",
        "The `self` keyword refers to the instance of the class. It ensures that each object maintains its own unique state."
      ]
    },
    {
      "cell_type": "code",
      "execution_count": 1,
      "id": "9aab24f1",
      "metadata": {
        "id": "9aab24f1"
      },
      "outputs": [
        {
          "name": "stdout",
          "output_type": "stream",
          "text": [
            "Alice, 30 years old, works as a Engineer\n"
          ]
        }
      ],
      "source": [
        "class Person:\n",
        "    def __init__(self, name, age, profession):\n",
        "        self.name = name # Attribute\n",
        "        self.age = age # Attribute\n",
        "        self.profession = profession # Attribute\n",
        "\n",
        "    def __str__(self):\n",
        "        return f\"{self.name}, {self.age} years old, works as a {self.profession}\"\n",
        "\n",
        "# Creating and printing a Person object\n",
        "person1 = Person(\"Alice\", 30, \"Engineer\")\n",
        "print(person1)"
      ]
    },
    {
      "cell_type": "markdown",
      "id": "e4b3a179",
      "metadata": {
        "id": "e4b3a179"
      },
      "source": [
        "## 🏁 Final Challenge: Student Result Calculator\n",
        "\n",
        "🎯 **Objective**: Create a Python program that allows a student to input their marks and calculates their final result.\n",
        "\n",
        "### 🎓 Instructions:\n",
        "\n",
        "1. Define the coefficients of the three main courses:\n",
        "   - `maths`: 5\n",
        "   - `computer science`: 3\n",
        "   - `sports`: 1\n",
        "\n",
        "2. Prompt the student to enter their **marks** for each course (on /20). Make sure to convert the input to `float`.\n",
        "\n",
        "3. Define a **function** that takes the marks and calculates the **overall mark** using the formula:\n",
        "\n",
        "$$\n",
        "\\text{overall mark} = \\frac{(\\text{maths} \\times 5 + \\text{computer science} \\times 3 + \\text{sports} \\times 1)}{5 + 3 + 1}\n",
        "$$\n",
        "\n",
        "\n",
        "\n",
        "4. Use an **if condition** to determine if the student **succeeded** (overall mark ≥ 10) or **failed** (mark < 10).\n",
        "\n",
        "5. Create a `Student` **class** with the following:\n",
        "   - Attributes: `name`, `overallmark`, `status`\n",
        "   - Method `__str__()` to return:  \n",
        "     `\"StudentName has Succeeded/Failed with an overall mark of X\"`\n",
        "\n",
        "6. At the end, **print** the result using the class and method.\n",
        "\n",
        "💡 **Tip**: Reuse everything you've learned so far!\n",
        "\n",
        "Sure! Here’s the markdown version of your sentence:\n",
        "\n",
        "\n",
        "💡 **For those who don't like markdown:**  \n",
        "Here's the activity in a Google Docs file for a better view:  \n",
        "👉 [Click on the link](https://docs.google.com/document/d/1UebR4CLwrbaPpwt58Pj0jGyk8eXA0f8oLMknfPQo3ks/edit?tab=t.0)\n",
        "\n"
      ]
    },
    {
      "cell_type": "code",
      "execution_count": null,
      "id": "63a435c3",
      "metadata": {},
      "outputs": [],
      "source": []
    },
    {
      "cell_type": "markdown",
      "id": "9798f95d",
      "metadata": {
        "id": "9798f95d"
      },
      "source": [
        "## Your Solution:"
      ]
    },
    {
      "cell_type": "code",
      "execution_count": null,
      "id": "0a646eb3",
      "metadata": {
        "id": "0a646eb3"
      },
      "outputs": [],
      "source": []
    },
    {
      "cell_type": "markdown",
      "id": "jw2kPU9oF7DR",
      "metadata": {
        "id": "jw2kPU9oF7DR"
      },
      "source": [
        "### 🧱 Encapsulation in OOP\n",
        "\n",
        "Encapsulation bundles data and its methods together and restricts access to them. In Python, this is done using **private variables** (prefix `_` or `__`).\n",
        "\n",
        "#### Example:\n",
        "Below, the variable is private and cannot be accessed or modified directly."
      ]
    },
    {
      "cell_type": "code",
      "execution_count": 9,
      "id": "QoJY2mhHGKxU",
      "metadata": {
        "id": "QoJY2mhHGKxU"
      },
      "outputs": [
        {
          "name": "stdout",
          "output_type": "stream",
          "text": [
            "Cat says: meow\n",
            "Cat says: bow-wow\n"
          ]
        }
      ],
      "source": [
        "class Cat:\n",
        "    def __init__(self):\n",
        "        self.sound = \"meow\"\n",
        "\n",
        "    def speak(self):\n",
        "        print(f\"Cat says: {self.sound}\")\n",
        "\n",
        "c = Cat()\n",
        "c.speak()\n",
        "\n",
        "# The following will NOT change the private variable\n",
        "c.sound = \"bow-wow\"\n",
        "c.speak()  # Output remains unchanged"
      ]
    },
    {
      "cell_type": "markdown",
      "id": "RgyfvtrvGWK-",
      "metadata": {
        "id": "RgyfvtrvGWK-"
      },
      "source": [
        "\n",
        "### 🧬 Inheritance in OOP\n",
        "\n",
        "Inheritance allows a class to use methods and properties of another class.\n",
        "\n",
        "- `BaseClass`: the original class\n",
        "- `DerivedClass(BaseClass)`: inherits from the base class\n",
        "\n",
        "This promotes **code reuse**.\n",
        "\n",
        "#### Example:"
      ]
    },
    {
      "cell_type": "code",
      "execution_count": null,
      "id": "Mxm5TgkjG2vH",
      "metadata": {
        "id": "Mxm5TgkjG2vH"
      },
      "outputs": [],
      "source": [
        "class Animal:\n",
        "    def speak(self):\n",
        "        return \"Animal makes a sound\"\n",
        "\n",
        "class Dog(Animal):\n",
        "    def speak(self):\n",
        "        return \"Woof!\"\n",
        "\n",
        "my_dog = Dog()\n",
        "print(my_dog.speak())  # Output: Woof!"
      ]
    },
    {
      "cell_type": "markdown",
      "id": "BfOtvMdvHOH2",
      "metadata": {
        "id": "BfOtvMdvHOH2"
      },
      "source": [
        "### 🧼 Abstraction in OOP\n",
        "\n",
        "Abstraction hides internal implementation details and shows only the necessary features.\n",
        "\n",
        "Python achieves abstraction using **abstract base classes** and the `abc` module."
      ]
    },
    {
      "cell_type": "code",
      "execution_count": null,
      "id": "oZuG-2naHfGX",
      "metadata": {
        "id": "oZuG-2naHfGX"
      },
      "outputs": [],
      "source": [
        "from abc import ABC, abstractmethod\n",
        "\n",
        "class Company(ABC):\n",
        "    @abstractmethod\n",
        "    def work(self):\n",
        "        pass\n",
        "\n",
        "class Manager(Company):\n",
        "    def work(self):\n",
        "        print(\"I assign work to and manage team\")\n",
        "\n",
        "class Employee(Company):\n",
        "    def work(self):\n",
        "        print(\"I complete the work assigned to me\")\n",
        "\n",
        "R = Manager()\n",
        "R.work()\n",
        "\n",
        "K = Employee()\n",
        "K.work()"
      ]
    },
    {
      "cell_type": "markdown",
      "id": "-DSfu06OHmyU",
      "metadata": {
        "id": "-DSfu06OHmyU"
      },
      "source": [
        "### Polymorphism in OOP\n",
        "\n",
        "Polymorphism lets the same method name work differently depending on the object.\n",
        "\n",
        "#### Example with Classes:"
      ]
    },
    {
      "cell_type": "code",
      "execution_count": null,
      "id": "tO2u5bVUHtPc",
      "metadata": {
        "id": "tO2u5bVUHtPc"
      },
      "outputs": [],
      "source": [
        "class Class1():\n",
        "    def pt(self):\n",
        "        print(\"This function determines class 1\")\n",
        "\n",
        "class Class2():\n",
        "    def pt(self):\n",
        "        print(\"This function determines class 2\")\n",
        "\n",
        "obj1 = Class1()\n",
        "obj2 = Class2()\n",
        "\n",
        "for item in (obj1, obj2):\n",
        "    item.pt()"
      ]
    }
  ],
  "metadata": {
    "colab": {
      "provenance": []
    },
    "kernelspec": {
      "display_name": "Python 3",
      "language": "python",
      "name": "python3"
    },
    "language_info": {
      "codemirror_mode": {
        "name": "ipython",
        "version": 3
      },
      "file_extension": ".py",
      "mimetype": "text/x-python",
      "name": "python",
      "nbconvert_exporter": "python",
      "pygments_lexer": "ipython3",
      "version": "3.13.3"
    }
  },
  "nbformat": 4,
  "nbformat_minor": 5
}
